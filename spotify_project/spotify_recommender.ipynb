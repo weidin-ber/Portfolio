{
 "cells": [
  {
   "cell_type": "code",
   "execution_count": 1,
   "id": "22835421",
   "metadata": {},
   "outputs": [],
   "source": [
    "import config\n",
    "from IPython.display import IFrame\n",
    "from random import randint\n",
    "import pandas as pd\n",
    "import spotipy\n",
    "import json\n",
    "from spotipy.oauth2 import SpotifyClientCredentials\n",
    "import warnings\n",
    "warnings.filterwarnings('ignore')\n",
    "import pickle\n",
    "from tabulate import tabulate"
   ]
  },
  {
   "cell_type": "code",
   "execution_count": 2,
   "id": "d35c6aa9",
   "metadata": {},
   "outputs": [],
   "source": [
    "df_final = pd.read_csv(\"export_recommender.csv\")"
   ]
  },
  {
   "cell_type": "code",
   "execution_count": 3,
   "id": "26f1cc9d",
   "metadata": {},
   "outputs": [],
   "source": [
    "sp = spotipy.Spotify(auth_manager=SpotifyClientCredentials(client_id= config.client_id,\n",
    "                                                           client_secret= config.client_secret))"
   ]
  },
  {
   "cell_type": "code",
   "execution_count": 4,
   "id": "5e1c0c48",
   "metadata": {},
   "outputs": [],
   "source": [
    "def play_song(track_id):\n",
    "    return IFrame(src=\"https://open.spotify.com/embed/track/\"+track_id,\n",
    "       width=\"320\",\n",
    "       height=\"80\",\n",
    "       frameborder=\"0\",\n",
    "       allowtransparency=\"true\",\n",
    "       allow=\"encrypted-media\",\n",
    "      )"
   ]
  },
  {
   "cell_type": "code",
   "execution_count": 5,
   "id": "68d92172",
   "metadata": {},
   "outputs": [],
   "source": [
    "def load(filename = \"filename.pickle\"): \n",
    "    try: \n",
    "        with open(filename, \"rb\") as f: \n",
    "            return pickle.load(f) \n",
    "        \n",
    "    except FileNotFoundError: \n",
    "        print(\"File not found!\") \n"
   ]
  },
  {
   "cell_type": "code",
   "execution_count": 6,
   "id": "41a4d377",
   "metadata": {},
   "outputs": [],
   "source": [
    "scaler = load(\"scaler.pickle\")\n",
    "kmeans = load(\"kmeans_4.pickle\")"
   ]
  },
  {
   "cell_type": "code",
   "execution_count": 7,
   "id": "72de2ac3",
   "metadata": {},
   "outputs": [],
   "source": [
    "#Input User Song\n",
    "def user_input():\n",
    "    Input = input(\"Please enter an artist or song: \")\n",
    "    results = sp.search(q= Input,limit=3,market=\"GB\")\n",
    "    global id\n",
    "    id=results[\"tracks\"][\"items\"][0][\"id\"]\n",
    "    return play_song(id)\n",
    "     "
   ]
  },
  {
   "cell_type": "code",
   "execution_count": 8,
   "id": "e83360ce",
   "metadata": {},
   "outputs": [],
   "source": [
    "def recommender():\n",
    "    features = sp.audio_features(id)\n",
    "    user_df=pd.DataFrame(features)    \n",
    "    user_df=user_df[[\"danceability\",\"energy\",\"key\", \"loudness\",\"acousticness\", \"valence\", \"tempo\"]]\n",
    "    user_key = user_df[\"key\"].values\n",
    "    user_temp = user_df[\"tempo\"].values\n",
    "    user_scaled = scaler.transform(user_df)\n",
    "    user_clusters = kmeans.predict(user_scaled)\n",
    "    recommendation_df = df_final[df_final[\"cluster\"]==user_clusters[0]] \n",
    "    record1_df = recommendation_df[recommendation_df[\"key\"]==user_key[0]]\n",
    "    record_df = record1_df[record1_df[\"tempo\"].between(user_temp[0]-10, user_temp[0]+10)].sample(n=1)\n",
    "    printed_r_df=record_df[[\"danceability\",\"energy\",\"key\", \"loudness\",\"acousticness\", \"valence\", \"tempo\"]]\n",
    "    r_id = record_df[\"id\"].values\n",
    "    print(\"These are the features of the song you chose: \")\n",
    "    print(tabulate(user_df, headers='keys', tablefmt='psql'))\n",
    "    print(\"These are the features of my recommendation: \")\n",
    "    print(tabulate(printed_r_df, headers=\"keys\", tablefmt='psql'))\n",
    "    print(\"__________________________________________________________________\")\n",
    "    print(\"This is the song I recommend to you, best regards your friendly AI: \")\n",
    "    return play_song(r_id[0])"
   ]
  },
  {
   "cell_type": "code",
   "execution_count": 9,
   "id": "7513fbb6",
   "metadata": {},
   "outputs": [
    {
     "name": "stdout",
     "output_type": "stream",
     "text": [
      "Please enter an artist or song: micheal jackson\n"
     ]
    },
    {
     "data": {
      "text/html": [
       "\n",
       "        <iframe\n",
       "            width=\"320\"\n",
       "            height=\"80\"\n",
       "            src=\"https://open.spotify.com/embed/track/5ChkMS8OtdzJeqyybCc9R5?frameborder=0&allowtransparency=true&allow=encrypted-media\"\n",
       "            frameborder=\"0\"\n",
       "            allowfullscreen\n",
       "            \n",
       "        ></iframe>\n",
       "        "
      ],
      "text/plain": [
       "<IPython.lib.display.IFrame at 0x28dfff19490>"
      ]
     },
     "execution_count": 9,
     "metadata": {},
     "output_type": "execute_result"
    }
   ],
   "source": [
    "user_input()\n"
   ]
  },
  {
   "cell_type": "code",
   "execution_count": 10,
   "id": "412ea04f",
   "metadata": {},
   "outputs": [
    {
     "name": "stdout",
     "output_type": "stream",
     "text": [
      "These are the features of the song you chose: \n",
      "+----+----------------+----------+-------+------------+----------------+-----------+---------+\n",
      "|    |   danceability |   energy |   key |   loudness |   acousticness |   valence |   tempo |\n",
      "|----+----------------+----------+-------+------------+----------------+-----------+---------|\n",
      "|  0 |          0.545 |    0.485 |     9 |     -8.045 |          0.537 |     0.101 |  80.948 |\n",
      "+----+----------------+----------+-------+------------+----------------+-----------+---------+\n",
      "These are the features of my recommendation: \n",
      "+------+----------------+----------+-------+------------+----------------+-----------+---------+\n",
      "|      |   danceability |   energy |   key |   loudness |   acousticness |   valence |   tempo |\n",
      "|------+----------------+----------+-------+------------+----------------+-----------+---------|\n",
      "| 9038 |          0.469 |     0.42 |     9 |     -7.824 |          0.701 |     0.232 |  88.016 |\n",
      "+------+----------------+----------+-------+------------+----------------+-----------+---------+\n",
      "__________________________________________________________________\n",
      "This is the song I recommend to you, best regards your friendly AI: \n"
     ]
    },
    {
     "data": {
      "text/html": [
       "\n",
       "        <iframe\n",
       "            width=\"320\"\n",
       "            height=\"80\"\n",
       "            src=\"https://open.spotify.com/embed/track/2v6AWRzhAsy61rBNBqzEna?frameborder=0&allowtransparency=true&allow=encrypted-media\"\n",
       "            frameborder=\"0\"\n",
       "            allowfullscreen\n",
       "            \n",
       "        ></iframe>\n",
       "        "
      ],
      "text/plain": [
       "<IPython.lib.display.IFrame at 0x29063cf55e0>"
      ]
     },
     "execution_count": 10,
     "metadata": {},
     "output_type": "execute_result"
    }
   ],
   "source": [
    "recommender()"
   ]
  },
  {
   "cell_type": "code",
   "execution_count": 11,
   "id": "80839211",
   "metadata": {},
   "outputs": [
    {
     "data": {
      "text/html": [
       "<div>\n",
       "<style scoped>\n",
       "    .dataframe tbody tr th:only-of-type {\n",
       "        vertical-align: middle;\n",
       "    }\n",
       "\n",
       "    .dataframe tbody tr th {\n",
       "        vertical-align: top;\n",
       "    }\n",
       "\n",
       "    .dataframe thead th {\n",
       "        text-align: right;\n",
       "    }\n",
       "</style>\n",
       "<table border=\"1\" class=\"dataframe\">\n",
       "  <thead>\n",
       "    <tr style=\"text-align: right;\">\n",
       "      <th></th>\n",
       "      <th>id</th>\n",
       "      <th>danceability</th>\n",
       "      <th>energy</th>\n",
       "      <th>key</th>\n",
       "      <th>loudness</th>\n",
       "      <th>acousticness</th>\n",
       "      <th>valence</th>\n",
       "      <th>tempo</th>\n",
       "      <th>cluster</th>\n",
       "    </tr>\n",
       "  </thead>\n",
       "  <tbody>\n",
       "    <tr>\n",
       "      <th>1363</th>\n",
       "      <td>4anx9dy5q5vU1B0kwNRmrR</td>\n",
       "      <td>0.560</td>\n",
       "      <td>0.501</td>\n",
       "      <td>9</td>\n",
       "      <td>-5.442</td>\n",
       "      <td>0.725</td>\n",
       "      <td>0.220</td>\n",
       "      <td>90.301</td>\n",
       "      <td>38</td>\n",
       "    </tr>\n",
       "    <tr>\n",
       "      <th>1512</th>\n",
       "      <td>0EvnRzwVhtaboVkVSYvxyA</td>\n",
       "      <td>0.451</td>\n",
       "      <td>0.547</td>\n",
       "      <td>9</td>\n",
       "      <td>-8.522</td>\n",
       "      <td>0.504</td>\n",
       "      <td>0.126</td>\n",
       "      <td>87.721</td>\n",
       "      <td>38</td>\n",
       "    </tr>\n",
       "    <tr>\n",
       "      <th>4593</th>\n",
       "      <td>7woW97CfcWaKtuC6W5BP2K</td>\n",
       "      <td>0.545</td>\n",
       "      <td>0.485</td>\n",
       "      <td>9</td>\n",
       "      <td>-8.045</td>\n",
       "      <td>0.537</td>\n",
       "      <td>0.101</td>\n",
       "      <td>80.948</td>\n",
       "      <td>38</td>\n",
       "    </tr>\n",
       "    <tr>\n",
       "      <th>5126</th>\n",
       "      <td>5lvnGiTAH9BVlJLHc0DXZz</td>\n",
       "      <td>0.439</td>\n",
       "      <td>0.322</td>\n",
       "      <td>9</td>\n",
       "      <td>-5.959</td>\n",
       "      <td>0.692</td>\n",
       "      <td>0.160</td>\n",
       "      <td>77.963</td>\n",
       "      <td>38</td>\n",
       "    </tr>\n",
       "    <tr>\n",
       "      <th>8035</th>\n",
       "      <td>4DXfOXYv0ki7IR3P0XRcMY</td>\n",
       "      <td>0.594</td>\n",
       "      <td>0.459</td>\n",
       "      <td>9</td>\n",
       "      <td>-7.507</td>\n",
       "      <td>0.712</td>\n",
       "      <td>0.316</td>\n",
       "      <td>75.082</td>\n",
       "      <td>38</td>\n",
       "    </tr>\n",
       "    <tr>\n",
       "      <th>8878</th>\n",
       "      <td>5O2lEvI1K4Fa4KL8vO3e6W</td>\n",
       "      <td>0.228</td>\n",
       "      <td>0.431</td>\n",
       "      <td>9</td>\n",
       "      <td>-9.465</td>\n",
       "      <td>0.261</td>\n",
       "      <td>0.206</td>\n",
       "      <td>83.066</td>\n",
       "      <td>38</td>\n",
       "    </tr>\n",
       "    <tr>\n",
       "      <th>9038</th>\n",
       "      <td>2v6AWRzhAsy61rBNBqzEna</td>\n",
       "      <td>0.469</td>\n",
       "      <td>0.420</td>\n",
       "      <td>9</td>\n",
       "      <td>-7.824</td>\n",
       "      <td>0.701</td>\n",
       "      <td>0.232</td>\n",
       "      <td>88.016</td>\n",
       "      <td>38</td>\n",
       "    </tr>\n",
       "    <tr>\n",
       "      <th>9683</th>\n",
       "      <td>3AH9lQx7COmyQKq5SqJRrX</td>\n",
       "      <td>0.383</td>\n",
       "      <td>0.429</td>\n",
       "      <td>9</td>\n",
       "      <td>-10.236</td>\n",
       "      <td>0.580</td>\n",
       "      <td>0.204</td>\n",
       "      <td>83.807</td>\n",
       "      <td>38</td>\n",
       "    </tr>\n",
       "    <tr>\n",
       "      <th>10680</th>\n",
       "      <td>2ewjgFhHDTE8BkV8kzpiX2</td>\n",
       "      <td>0.305</td>\n",
       "      <td>0.628</td>\n",
       "      <td>9</td>\n",
       "      <td>-3.573</td>\n",
       "      <td>0.460</td>\n",
       "      <td>0.428</td>\n",
       "      <td>80.389</td>\n",
       "      <td>38</td>\n",
       "    </tr>\n",
       "  </tbody>\n",
       "</table>\n",
       "</div>"
      ],
      "text/plain": [
       "                           id  danceability  energy  key  loudness  \\\n",
       "1363   4anx9dy5q5vU1B0kwNRmrR         0.560   0.501    9    -5.442   \n",
       "1512   0EvnRzwVhtaboVkVSYvxyA         0.451   0.547    9    -8.522   \n",
       "4593   7woW97CfcWaKtuC6W5BP2K         0.545   0.485    9    -8.045   \n",
       "5126   5lvnGiTAH9BVlJLHc0DXZz         0.439   0.322    9    -5.959   \n",
       "8035   4DXfOXYv0ki7IR3P0XRcMY         0.594   0.459    9    -7.507   \n",
       "8878   5O2lEvI1K4Fa4KL8vO3e6W         0.228   0.431    9    -9.465   \n",
       "9038   2v6AWRzhAsy61rBNBqzEna         0.469   0.420    9    -7.824   \n",
       "9683   3AH9lQx7COmyQKq5SqJRrX         0.383   0.429    9   -10.236   \n",
       "10680  2ewjgFhHDTE8BkV8kzpiX2         0.305   0.628    9    -3.573   \n",
       "\n",
       "       acousticness  valence   tempo  cluster  \n",
       "1363          0.725    0.220  90.301       38  \n",
       "1512          0.504    0.126  87.721       38  \n",
       "4593          0.537    0.101  80.948       38  \n",
       "5126          0.692    0.160  77.963       38  \n",
       "8035          0.712    0.316  75.082       38  \n",
       "8878          0.261    0.206  83.066       38  \n",
       "9038          0.701    0.232  88.016       38  \n",
       "9683          0.580    0.204  83.807       38  \n",
       "10680         0.460    0.428  80.389       38  "
      ]
     },
     "execution_count": 11,
     "metadata": {},
     "output_type": "execute_result"
    }
   ],
   "source": [
    "    features = sp.audio_features(id)\n",
    "    user_df=pd.DataFrame(features)    \n",
    "    user_df=user_df[[\"danceability\",\"energy\",\"key\", \"loudness\",\"acousticness\", \"valence\", \"tempo\"]]\n",
    "    user_key = user_df[\"key\"].values\n",
    "    user_temp = user_df[\"tempo\"].values\n",
    "    user_scaled = scaler.transform(user_df)\n",
    "    user_clusters = kmeans.predict(user_scaled)\n",
    "    recommendation_df = df_final[df_final[\"cluster\"]==user_clusters[0]] \n",
    "    record1_df = recommendation_df[recommendation_df[\"key\"]==user_key[0]]\n",
    "    record_df = record1_df[record1_df[\"tempo\"].between(user_temp[0]-10, user_temp[0]+10)]\n",
    "record_df"
   ]
  },
  {
   "cell_type": "code",
   "execution_count": null,
   "id": "7a26c5ab",
   "metadata": {},
   "outputs": [],
   "source": []
  }
 ],
 "metadata": {
  "kernelspec": {
   "display_name": "Python 3 (ipykernel)",
   "language": "python",
   "name": "python3"
  },
  "language_info": {
   "codemirror_mode": {
    "name": "ipython",
    "version": 3
   },
   "file_extension": ".py",
   "mimetype": "text/x-python",
   "name": "python",
   "nbconvert_exporter": "python",
   "pygments_lexer": "ipython3",
   "version": "3.9.12"
  }
 },
 "nbformat": 4,
 "nbformat_minor": 5
}
