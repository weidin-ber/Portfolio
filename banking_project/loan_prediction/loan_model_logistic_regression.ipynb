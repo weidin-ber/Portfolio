{
 "cells": [
  {
   "cell_type": "code",
   "execution_count": 1,
   "id": "af9baa0b",
   "metadata": {},
   "outputs": [],
   "source": [
    "import pandas as pd\n",
    "import numpy as np\n",
    "from sklearn.model_selection import train_test_split\n",
    "from sklearn.linear_model import LogisticRegression\n",
    "from sklearn.preprocessing import PowerTransformer\n",
    "from sklearn.metrics import accuracy_score, precision_score, recall_score, confusion_matrix\n",
    "from sklearn.metrics import plot_confusion_matrix\n",
    "from imblearn.over_sampling import SMOTE\n",
    "import warnings\n",
    "warnings.filterwarnings('ignore')\n"
   ]
  },
  {
   "cell_type": "code",
   "execution_count": 12,
   "id": "288364e7",
   "metadata": {},
   "outputs": [],
   "source": [
    "# loading the data as csv\n",
    "data = pd.read_csv(\"data/loan_cleaned.csv\")"
   ]
  },
  {
   "cell_type": "code",
   "execution_count": 13,
   "id": "d9e56ddf",
   "metadata": {},
   "outputs": [],
   "source": [
    "# X/y split\n",
    "y = data['status']\n",
    "X = data.drop([\"status\"], axis = 1)"
   ]
  },
  {
   "cell_type": "code",
   "execution_count": 14,
   "id": "c313a847",
   "metadata": {},
   "outputs": [
    {
     "data": {
      "text/plain": [
       "Index(['loan_amount', 'rate_of_interest', 'interest_rate_spread',\n",
       "       'upfront_charges', 'term', 'property_value', 'income', 'credit_score',\n",
       "       'ltv', 'dtir1', 'dmy_ncf', 'dmy_pre', 'dmy_type2', 'dmy_type3',\n",
       "       'dmy_p2', 'dmy_p3', 'dmy_p4', 'dmy_l2', 'dmy_opc', 'dmy_nob/c',\n",
       "       'dmy_not_neg', 'dmy_not_int', 'dmy_not_lpsm', 'dmy_sb', 'dmy_pr',\n",
       "       'dmy_sr', 'dmy_land', 'dmy_2U', 'dmy_3U', 'dmy_4U', 'dmy_CRIF',\n",
       "       'dmy_EQUI', 'dmy_EXP', 'dmy_EXP.1', 'dmy_35-44', 'dmy_45-54',\n",
       "       'dmy_55-64', 'dmy_65-74', 'dmy_<25', 'dmy_>74', 'dmy_to_inst',\n",
       "       'dmy_North-East', 'dmy_central', 'dmy_south', 'dmy_direct'],\n",
       "      dtype='object')"
      ]
     },
     "execution_count": 14,
     "metadata": {},
     "output_type": "execute_result"
    }
   ],
   "source": [
    "X.columns"
   ]
  },
  {
   "cell_type": "code",
   "execution_count": 15,
   "id": "c1195775",
   "metadata": {},
   "outputs": [],
   "source": [
    "# train / test split \n",
    "X_train, X_test, y_train, y_test=train_test_split(X, y, test_size=.20, random_state=42)"
   ]
  },
  {
   "cell_type": "code",
   "execution_count": 16,
   "id": "8ecf3ff3",
   "metadata": {},
   "outputs": [
    {
     "data": {
      "text/plain": [
       "0    89537\n",
       "1    89537\n",
       "Name: status, dtype: int64"
      ]
     },
     "execution_count": 16,
     "metadata": {},
     "output_type": "execute_result"
    }
   ],
   "source": [
    "# upsampling with Smote\n",
    "smote = SMOTE()\n",
    "X_sm, y_sm = smote.fit_resample(X_train, y_train)\n",
    "y_sm.value_counts()"
   ]
  },
  {
   "cell_type": "code",
   "execution_count": 17,
   "id": "05de2176",
   "metadata": {},
   "outputs": [],
   "source": [
    "from sklearn.preprocessing import StandardScaler"
   ]
  },
  {
   "cell_type": "code",
   "execution_count": 18,
   "id": "d024323b",
   "metadata": {},
   "outputs": [],
   "source": [
    "# scale the data with standardscaler\n",
    "scaler = StandardScaler()\n",
    "X_train_scaled_sm = scaler.fit_transform(X_sm)\n",
    "X_test_scaled=scaler.transform(X_test)"
   ]
  },
  {
   "cell_type": "code",
   "execution_count": 19,
   "id": "484d63e0",
   "metadata": {},
   "outputs": [],
   "source": [
    "# loading the model\n",
    "log_model = LogisticRegression()"
   ]
  },
  {
   "cell_type": "code",
   "execution_count": 20,
   "id": "415fe4fb",
   "metadata": {},
   "outputs": [],
   "source": [
    "import matplotlib.pyplot as plt"
   ]
  },
  {
   "cell_type": "code",
   "execution_count": 21,
   "id": "aab64ec2",
   "metadata": {},
   "outputs": [
    {
     "data": {
      "text/html": [
       "<div>\n",
       "<style scoped>\n",
       "    .dataframe tbody tr th:only-of-type {\n",
       "        vertical-align: middle;\n",
       "    }\n",
       "\n",
       "    .dataframe tbody tr th {\n",
       "        vertical-align: top;\n",
       "    }\n",
       "\n",
       "    .dataframe thead th {\n",
       "        text-align: right;\n",
       "    }\n",
       "</style>\n",
       "<table border=\"1\" class=\"dataframe\">\n",
       "  <thead>\n",
       "    <tr style=\"text-align: right;\">\n",
       "      <th></th>\n",
       "      <th>Error_metric</th>\n",
       "      <th>Train</th>\n",
       "      <th>Test</th>\n",
       "    </tr>\n",
       "  </thead>\n",
       "  <tbody>\n",
       "    <tr>\n",
       "      <th>0</th>\n",
       "      <td>Accuracy</td>\n",
       "      <td>0.864827</td>\n",
       "      <td>0.837324</td>\n",
       "    </tr>\n",
       "    <tr>\n",
       "      <th>1</th>\n",
       "      <td>Precision</td>\n",
       "      <td>0.914426</td>\n",
       "      <td>0.716292</td>\n",
       "    </tr>\n",
       "    <tr>\n",
       "      <th>2</th>\n",
       "      <td>Recall</td>\n",
       "      <td>0.804986</td>\n",
       "      <td>0.549586</td>\n",
       "    </tr>\n",
       "  </tbody>\n",
       "</table>\n",
       "</div>"
      ],
      "text/plain": [
       "  Error_metric     Train      Test\n",
       "0     Accuracy  0.864827  0.837324\n",
       "1    Precision  0.914426  0.716292\n",
       "2       Recall  0.804986  0.549586"
      ]
     },
     "metadata": {},
     "output_type": "display_data"
    },
    {
     "name": "stdout",
     "output_type": "stream",
     "text": [
      "Confusion matrix for the train set\n",
      "[[82792  6745]\n",
      " [17461 72076]]\n"
     ]
    },
    {
     "data": {
      "image/png": "[encoded data removed]",
      "text/plain": [
       "<Figure size 432x288 with 2 Axes>"
      ]
     },
     "metadata": {
      "needs_background": "light"
     },
     "output_type": "display_data"
    },
    {
     "name": "stdout",
     "output_type": "stream",
     "text": [
      "\n",
      "\n",
      "Confusion matrix for the test set\n",
      "[[20918  1576]\n",
      " [ 3261  3979]]\n"
     ]
    },
    {
     "data": {
      "image/png": "[encoded data removed]",
      "text/plain": [
       "<Figure size 432x288 with 2 Axes>"
      ]
     },
     "metadata": {
      "needs_background": "light"
     },
     "output_type": "display_data"
    }
   ],
   "source": [
    "#fit the smoted data into the model\n",
    "log_model.fit(X_train_scaled_sm, y_sm)\n",
    "\n",
    "# predict on X train scaled and x test scaled and safe in variable\n",
    "y_pred_train_log = log_model.predict(X_train_scaled_sm)\n",
    "y_pred_test_log = log_model.predict(X_test_scaled)\n",
    "\n",
    "#Create a dataframe for the Train and Test results\n",
    "performance_log = pd.DataFrame({'Error_metric': ['Accuracy','Precision','Recall'],\n",
    "                               'Train': [accuracy_score(y_sm, y_pred_train_log),\n",
    "                                         precision_score(y_sm, y_pred_train_log),\n",
    "                                         recall_score(y_sm, y_pred_train_log)],\n",
    "                               'Test': [accuracy_score(y_test, y_pred_test_log),\n",
    "                                        precision_score(y_test, y_pred_test_log),\n",
    "                                        recall_score(y_test, y_pred_test_log)]})\n",
    "# display the dataframe\n",
    "display(performance_log)\n",
    "\n",
    "# print the confusion matrix for the train set\n",
    "print(\"Confusion matrix for the train set\")\n",
    "print(confusion_matrix(y_sm,y_pred_train_log))\n",
    "plot_confusion_matrix(log_model,X_train_scaled_sm,y_sm, values_format = 'd')\n",
    "plt.show()\n",
    "\n",
    "print()\n",
    "print()\n",
    "\n",
    "# print the confusion matrix for the test set\n",
    "print(\"Confusion matrix for the test set\")\n",
    "print(confusion_matrix(y_test, y_pred_test_log))\n",
    "plot_confusion_matrix(log_model,X_test_scaled,y_test, values_format = 'd')\n",
    "plt.show()"
   ]
  }
 ],
 "metadata": {
  "kernelspec": {
   "display_name": "Python 3 (ipykernel)",
   "language": "python",
   "name": "python3"
  },
  "language_info": {
   "codemirror_mode": {
    "name": "ipython",
    "version": 3
   },
   "file_extension": ".py",
   "mimetype": "text/x-python",
   "name": "python",
   "nbconvert_exporter": "python",
   "pygments_lexer": "ipython3",
   "version": "3.9.12"
  }
 },
 "nbformat": 4,
 "nbformat_minor": 5
}
