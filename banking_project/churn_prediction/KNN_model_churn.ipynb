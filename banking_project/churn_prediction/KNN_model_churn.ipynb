{
 "cells": [
  {
   "cell_type": "code",
   "execution_count": 1,
   "id": "8f31428b",
   "metadata": {},
   "outputs": [],
   "source": [
    "import pandas as pd\n",
    "import numpy as np\n",
    "import seaborn as sns\n",
    "## plotting libraries\n",
    "from matplotlib import pyplot as plt"
   ]
  },
  {
   "cell_type": "code",
   "execution_count": 2,
   "id": "d995ad98",
   "metadata": {},
   "outputs": [],
   "source": [
    "#read csv file\n",
    "data = pd.read_csv(\"./Churn_Modelling.csv\")"
   ]
  },
  {
   "cell_type": "code",
   "execution_count": 3,
   "id": "836db6eb",
   "metadata": {},
   "outputs": [
    {
     "data": {
      "text/plain": [
       "RowNumber            int64\n",
       "CustomerId           int64\n",
       "Surname             object\n",
       "CreditScore          int64\n",
       "Geography           object\n",
       "Gender              object\n",
       "Age                  int64\n",
       "Tenure               int64\n",
       "Balance            float64\n",
       "NumOfProducts        int64\n",
       "HasCrCard            int64\n",
       "IsActiveMember       int64\n",
       "EstimatedSalary    float64\n",
       "Exited               int64\n",
       "dtype: object"
      ]
     },
     "execution_count": 3,
     "metadata": {},
     "output_type": "execute_result"
    }
   ],
   "source": [
    "#display the features and their data types\n",
    "data.dtypes"
   ]
  },
  {
   "cell_type": "code",
   "execution_count": 4,
   "id": "98c637a5",
   "metadata": {},
   "outputs": [],
   "source": [
    "#drop null values\n",
    "data.dropna(inplace=True)"
   ]
  },
  {
   "cell_type": "code",
   "execution_count": 5,
   "id": "df068c7e",
   "metadata": {},
   "outputs": [
    {
     "data": {
      "text/plain": [
       "0    7963\n",
       "1    2037\n",
       "Name: Exited, dtype: int64"
      ]
     },
     "execution_count": 5,
     "metadata": {},
     "output_type": "execute_result"
    }
   ],
   "source": [
    "#check the count of our target variable\n",
    "data['Exited'].value_counts()"
   ]
  },
  {
   "cell_type": "code",
   "execution_count": 6,
   "id": "a3b0fd45",
   "metadata": {},
   "outputs": [
    {
     "data": {
      "text/plain": [
       "Male      5457\n",
       "Female    4543\n",
       "Name: Gender, dtype: int64"
      ]
     },
     "execution_count": 6,
     "metadata": {},
     "output_type": "execute_result"
    }
   ],
   "source": [
    "#check the count of the gender\n",
    "data['Gender'].value_counts()"
   ]
  },
  {
   "cell_type": "code",
   "execution_count": 7,
   "id": "b3881cb1",
   "metadata": {},
   "outputs": [
    {
     "data": {
      "text/plain": [
       "France     5014\n",
       "Germany    2509\n",
       "Spain      2477\n",
       "Name: Geography, dtype: int64"
      ]
     },
     "execution_count": 7,
     "metadata": {},
     "output_type": "execute_result"
    }
   ],
   "source": [
    "#check the count of the various countries \n",
    "data[\"Geography\"].value_counts()"
   ]
  },
  {
   "cell_type": "code",
   "execution_count": 8,
   "id": "7ab5fed4",
   "metadata": {},
   "outputs": [],
   "source": [
    "#getting dummies on categorical variables and dropping first\n",
    "data = pd.get_dummies(data, columns=[\"Geography\", \"Gender\"], prefix= \"dmy\",drop_first = True)"
   ]
  },
  {
   "cell_type": "code",
   "execution_count": 9,
   "id": "4e443103",
   "metadata": {},
   "outputs": [],
   "source": [
    "#set the index of the customer ID as index\n",
    "#dropping the row number and surname as they have no influence on the model\n",
    "data=data.set_index('CustomerId')\n",
    "data = data.drop([\"RowNumber\", \"Surname\"], axis=1)"
   ]
  },
  {
   "cell_type": "markdown",
   "id": "72304e35",
   "metadata": {},
   "source": [
    "### X Y SPLIT"
   ]
  },
  {
   "cell_type": "code",
   "execution_count": 10,
   "id": "90752b7b",
   "metadata": {},
   "outputs": [],
   "source": [
    "#y is the target variable \n",
    "y_col = \"Exited\"\n",
    "y = data[y_col]\n",
    "\n",
    "#Choosing all the features in the dataframe and dropping the target variable\n",
    "X = data[data.columns.drop(y_col)]"
   ]
  },
  {
   "cell_type": "code",
   "execution_count": 11,
   "id": "ba43f232",
   "metadata": {},
   "outputs": [],
   "source": [
    "from sklearn.model_selection import train_test_split\n",
    "from sklearn.linear_model import LinearRegression\n",
    "from sklearn.preprocessing import PowerTransformer, StandardScaler, minmax_scale\n",
    "import pandas as pd\n",
    "import numpy as np;\n",
    "import scipy;\n",
    "## stats Libraries\n",
    "from scipy import stats\n",
    "import statsmodels.api as sm\n",
    "## Sklearn libraries\n",
    "from sklearn import model_selection\n",
    "from sklearn import metrics as metrics\n",
    "from sklearn import preprocessing\n",
    "from sklearn import linear_model as lm\n",
    "%matplotlib inline\n",
    "import warnings\n",
    "warnings.filterwarnings('ignore')\n",
    "from sklearn.model_selection import cross_val_score\n",
    "from imblearn.over_sampling import SMOTE\n",
    "from sklearn.compose import ColumnTransformer\n",
    "from sklearn.metrics import accuracy_score, precision_score, recall_score, confusion_matrix\n",
    "from sklearn.metrics import plot_confusion_matrix\n",
    "from sklearn.neighbors import KNeighborsClassifier\n",
    "from sklearn.model_selection import GridSearchCV"
   ]
  },
  {
   "cell_type": "markdown",
   "id": "3be3c1c8",
   "metadata": {},
   "source": [
    "### SPLITTING TRAIN AND TEST SET"
   ]
  },
  {
   "cell_type": "code",
   "execution_count": 12,
   "id": "c13008ba",
   "metadata": {},
   "outputs": [],
   "source": [
    "# Splitting the test and train set\n",
    "X_train, X_test, y_train, y_test=train_test_split(X, y, test_size=.20, random_state=42)"
   ]
  },
  {
   "cell_type": "markdown",
   "id": "0fb20d5f",
   "metadata": {},
   "source": [
    "### BALANCING DATA"
   ]
  },
  {
   "cell_type": "code",
   "execution_count": 13,
   "id": "d0d4dc56",
   "metadata": {},
   "outputs": [],
   "source": [
    "#using the smote function to balance the data\n",
    "smote = SMOTE()"
   ]
  },
  {
   "cell_type": "code",
   "execution_count": 14,
   "id": "4e3c626d",
   "metadata": {},
   "outputs": [
    {
     "data": {
      "text/plain": [
       "0    6356\n",
       "1    6356\n",
       "Name: Exited, dtype: int64"
      ]
     },
     "execution_count": 14,
     "metadata": {},
     "output_type": "execute_result"
    }
   ],
   "source": [
    "#fit the smote function to our train set so we could balance the data\n",
    "#this helps us avoid imbalanced data\n",
    "X_train, y_train = smote.fit_resample(X_train, y_train)\n",
    "y_train.value_counts()"
   ]
  },
  {
   "cell_type": "markdown",
   "id": "0ade1e6c",
   "metadata": {},
   "source": [
    "### COLUMN TRANSFORMER"
   ]
  },
  {
   "cell_type": "code",
   "execution_count": 15,
   "id": "8e4d47d8",
   "metadata": {},
   "outputs": [
    {
     "data": {
      "text/plain": [
       "Index(['CreditScore', 'Age', 'Tenure', 'Balance', 'NumOfProducts', 'HasCrCard',\n",
       "       'IsActiveMember', 'EstimatedSalary', 'dmy_Germany', 'dmy_Spain',\n",
       "       'dmy_Male'],\n",
       "      dtype='object')"
      ]
     },
     "execution_count": 15,
     "metadata": {},
     "output_type": "execute_result"
    }
   ],
   "source": [
    "#display columns in our X train\n",
    "X_train.columns"
   ]
  },
  {
   "cell_type": "code",
   "execution_count": 16,
   "id": "8ad1ee92",
   "metadata": {},
   "outputs": [
    {
     "name": "stdout",
     "output_type": "stream",
     "text": [
      "[ColumnTransformer] ... (1 of 2) Processing standardize, total=   0.0s\n",
      "[ColumnTransformer] ..... (2 of 2) Processing remainder, total=   0.0s\n"
     ]
    }
   ],
   "source": [
    "# create a ColumnTransformer that applies a StandardScaler\n",
    "#passing the only the values that we want to scale through the Column transformer object\n",
    "#while the rest of the features pass through using the remainder variable\n",
    "#the verbose features names out will prefix all feature names with the name of the transformer that generated that feature\n",
    "#then we fit the scaled features in the X train\n",
    "numeric_columns = [\"Age\", \"EstimatedSalary\", \"Balance\",\"CreditScore\" , \"Tenure\",\"NumOfProducts\"  ]\n",
    "preprocessor = ColumnTransformer(transformers=[('standardize', StandardScaler(), numeric_columns)\n",
    "], remainder=\"passthrough\", verbose_feature_names_out=True, verbose=True).fit(X_train)"
   ]
  },
  {
   "cell_type": "code",
   "execution_count": 17,
   "id": "e88b9c4c",
   "metadata": {},
   "outputs": [],
   "source": [
    "#transform the X train, this return a numpy arrary list X train\n",
    "X_train_e = preprocessor.transform(X_train)"
   ]
  },
  {
   "cell_type": "code",
   "execution_count": 18,
   "id": "5cb628dd",
   "metadata": {},
   "outputs": [],
   "source": [
    "#the transformed data is put back into a dataframe, with column headers gotten using the preprocessor get features name\n",
    "X_train_trans = pd.DataFrame(X_train_e,columns=preprocessor.get_feature_names_out())"
   ]
  },
  {
   "cell_type": "code",
   "execution_count": 19,
   "id": "404a1531",
   "metadata": {},
   "outputs": [
    {
     "data": {
      "text/plain": [
       "standardize__Age               -8.052086e-16\n",
       "standardize__EstimatedSalary   -1.739123e-16\n",
       "standardize__Balance           -1.604876e-15\n",
       "standardize__CreditScore       -1.794855e-16\n",
       "standardize__Tenure             1.810226e-15\n",
       "standardize__NumOfProducts     -3.234758e-14\n",
       "remainder__HasCrCard            6.251573e-01\n",
       "remainder__IsActiveMember       3.687067e-01\n",
       "remainder__dmy_Germany          2.437854e-01\n",
       "remainder__dmy_Spain            1.784141e-01\n",
       "remainder__dmy_Male             4.145689e-01\n",
       "dtype: float64"
      ]
     },
     "execution_count": 19,
     "metadata": {},
     "output_type": "execute_result"
    }
   ],
   "source": [
    "#check the mean of our features\n",
    "X_train_trans.mean()"
   ]
  },
  {
   "cell_type": "code",
   "execution_count": 20,
   "id": "24cbf9b2",
   "metadata": {},
   "outputs": [],
   "source": [
    "#transform our X test, \n",
    "#input the numpy array of the transformed test into a dataframe\n",
    "X_test_e = preprocessor.transform(X_test)\n",
    "X_test_trans = pd.DataFrame(X_test_e,columns=preprocessor.get_feature_names_out())"
   ]
  },
  {
   "cell_type": "code",
   "execution_count": 21,
   "id": "40159084",
   "metadata": {},
   "outputs": [
    {
     "data": {
      "text/plain": [
       "Index(['standardize__Age', 'standardize__EstimatedSalary',\n",
       "       'standardize__Balance', 'standardize__CreditScore',\n",
       "       'standardize__Tenure', 'standardize__NumOfProducts',\n",
       "       'remainder__HasCrCard', 'remainder__IsActiveMember',\n",
       "       'remainder__dmy_Germany', 'remainder__dmy_Spain',\n",
       "       'remainder__dmy_Male'],\n",
       "      dtype='object')"
      ]
     },
     "execution_count": 21,
     "metadata": {},
     "output_type": "execute_result"
    }
   ],
   "source": [
    "#display X test columns\n",
    "#columns beginning with the prefix 'standardize', have been scaled \n",
    "#columns with remainder passed through and didnt get scaled\n",
    "X_test_trans.columns"
   ]
  },
  {
   "cell_type": "markdown",
   "id": "e90c66d9",
   "metadata": {},
   "source": [
    "### USING KNN CLASSIFIER"
   ]
  },
  {
   "cell_type": "code",
   "execution_count": 22,
   "id": "b982b846",
   "metadata": {},
   "outputs": [],
   "source": [
    "#create a KNN classifier\n",
    "#number of neigbors is given as 2 while the weights is uniform\n",
    "#this way all points in each neigborhood are weighted equally\n",
    "knn = KNeighborsClassifier(n_neighbors = 2, weights = 'uniform')"
   ]
  },
  {
   "cell_type": "code",
   "execution_count": 23,
   "id": "3c3c72be",
   "metadata": {},
   "outputs": [
    {
     "data": {
      "text/plain": [
       "KNeighborsClassifier(n_neighbors=2)"
      ]
     },
     "execution_count": 23,
     "metadata": {},
     "output_type": "execute_result"
    }
   ],
   "source": [
    "# train the classifier on the training set\n",
    "knn.fit(X_train_trans, y_train)"
   ]
  },
  {
   "cell_type": "code",
   "execution_count": 24,
   "id": "78746911",
   "metadata": {},
   "outputs": [],
   "source": [
    "# make predictions on the test set\n",
    "y_pred_test = knn.predict(X_test_trans)\n",
    "\n",
    "#make predictions on the train set\n",
    "y_pred_train = knn.predict(X_train_trans)"
   ]
  },
  {
   "cell_type": "code",
   "execution_count": 25,
   "id": "224a531e",
   "metadata": {},
   "outputs": [
    {
     "name": "stdout",
     "output_type": "stream",
     "text": [
      "Accuracy: 80.5\n"
     ]
    }
   ],
   "source": [
    "# Model Accuracy, how often is the classifier correct?\n",
    "print(\"Accuracy:\",metrics.accuracy_score(y_test, y_pred_test)*100)"
   ]
  },
  {
   "cell_type": "code",
   "execution_count": 26,
   "id": "f9bf4f1d",
   "metadata": {},
   "outputs": [
    {
     "name": "stdout",
     "output_type": "stream",
     "text": [
      "Accuracy: 93.2662051604783\n"
     ]
    }
   ],
   "source": [
    "# Model Accuracy, how often is the classifier correct? on train set\n",
    "print(\"Accuracy:\",metrics.accuracy_score(y_train, y_pred_train)*100)"
   ]
  },
  {
   "cell_type": "code",
   "execution_count": 27,
   "id": "bad8ff72",
   "metadata": {},
   "outputs": [
    {
     "data": {
      "image/png": "[encoded data removed]",
      "text/plain": [
       "<Figure size 1008x576 with 4 Axes>"
      ]
     },
     "metadata": {
      "needs_background": "light"
     },
     "output_type": "display_data"
    }
   ],
   "source": [
    "def evaluate_classification_model(y_train, y_pred_train, y_test, y_pred_test):\n",
    "    performance_df = pd.DataFrame({'Error_metric': ['Accuracy','Precision','Recall'],\n",
    "                               'Train': [accuracy_score(y_train, y_pred_train),\n",
    "                                         precision_score(y_train, y_pred_train),\n",
    "                                         recall_score(y_train, y_pred_train)],\n",
    "                               'Test': [accuracy_score(y_test, y_pred_test),\n",
    "                                        precision_score(y_test, y_pred_test),\n",
    "                                        recall_score(y_test, y_pred_test)]})\n",
    "    \n",
    "    pd.options.display.float_format = '{:.2f}'.format\n",
    "\n",
    "    df_train = pd.DataFrame({'Real': y_train, 'Predicted': y_pred_train})\n",
    "    df_test  = pd.DataFrame({'Real': y_test,  'Predicted': y_pred_test})\n",
    "\n",
    "    return performance_df, df_train, df_test\n",
    "\n",
    "## calling the function\n",
    "error_metrics_df,y_train_vs_predicted, \\\n",
    "    y_test_vs_predicted=evaluate_classification_model(y_train, y_pred_train,\n",
    "                                                    y_test, y_pred_test)\n",
    "error_metrics_df\n",
    "\n",
    "\n",
    "fig, ax = plt.subplots(1,2, figsize=(14,8))\n",
    "\n",
    "\n",
    "#print(\"Confusion matrix for the train set\")\n",
    "#print(confusion_matrix(y_train,y_pred_train_dt).T)\n",
    "plot_confusion_matrix(knn,X_train_trans,y_train,ax=ax[0], values_format = 'd')\n",
    "ax[0].title.set_text(\"Train Set\")\n",
    "\n",
    "#print(\"Confusion matrix for the test set\")\n",
    "\n",
    "#print(confusion_matrix(y_test,y_pred_test_dt).T)\n",
    "plot_confusion_matrix(knn,X_test_trans,y_test,ax=ax[1],values_format = 'd')\n",
    "ax[1].title.set_text(\"Test Set\")"
   ]
  },
  {
   "cell_type": "code",
   "execution_count": 28,
   "id": "3bcd6415",
   "metadata": {},
   "outputs": [
    {
     "data": {
      "text/html": [
       "<div>\n",
       "<style scoped>\n",
       "    .dataframe tbody tr th:only-of-type {\n",
       "        vertical-align: middle;\n",
       "    }\n",
       "\n",
       "    .dataframe tbody tr th {\n",
       "        vertical-align: top;\n",
       "    }\n",
       "\n",
       "    .dataframe thead th {\n",
       "        text-align: right;\n",
       "    }\n",
       "</style>\n",
       "<table border=\"1\" class=\"dataframe\">\n",
       "  <thead>\n",
       "    <tr style=\"text-align: right;\">\n",
       "      <th></th>\n",
       "      <th>k</th>\n",
       "      <th>Error_metric</th>\n",
       "      <th>Train</th>\n",
       "      <th>Test</th>\n",
       "    </tr>\n",
       "  </thead>\n",
       "  <tbody>\n",
       "    <tr>\n",
       "      <th>0</th>\n",
       "      <td>2</td>\n",
       "      <td>Accuracy</td>\n",
       "      <td>0.93</td>\n",
       "      <td>0.81</td>\n",
       "    </tr>\n",
       "    <tr>\n",
       "      <th>1</th>\n",
       "      <td>2</td>\n",
       "      <td>Precision</td>\n",
       "      <td>1.00</td>\n",
       "      <td>0.50</td>\n",
       "    </tr>\n",
       "    <tr>\n",
       "      <th>2</th>\n",
       "      <td>2</td>\n",
       "      <td>Recall</td>\n",
       "      <td>0.87</td>\n",
       "      <td>0.50</td>\n",
       "    </tr>\n",
       "    <tr>\n",
       "      <th>0</th>\n",
       "      <td>3</td>\n",
       "      <td>Accuracy</td>\n",
       "      <td>0.91</td>\n",
       "      <td>0.77</td>\n",
       "    </tr>\n",
       "    <tr>\n",
       "      <th>1</th>\n",
       "      <td>3</td>\n",
       "      <td>Precision</td>\n",
       "      <td>0.88</td>\n",
       "      <td>0.44</td>\n",
       "    </tr>\n",
       "    <tr>\n",
       "      <th>2</th>\n",
       "      <td>3</td>\n",
       "      <td>Recall</td>\n",
       "      <td>0.94</td>\n",
       "      <td>0.68</td>\n",
       "    </tr>\n",
       "    <tr>\n",
       "      <th>0</th>\n",
       "      <td>4</td>\n",
       "      <td>Accuracy</td>\n",
       "      <td>0.89</td>\n",
       "      <td>0.79</td>\n",
       "    </tr>\n",
       "    <tr>\n",
       "      <th>1</th>\n",
       "      <td>4</td>\n",
       "      <td>Precision</td>\n",
       "      <td>0.91</td>\n",
       "      <td>0.48</td>\n",
       "    </tr>\n",
       "    <tr>\n",
       "      <th>2</th>\n",
       "      <td>4</td>\n",
       "      <td>Recall</td>\n",
       "      <td>0.87</td>\n",
       "      <td>0.58</td>\n",
       "    </tr>\n",
       "    <tr>\n",
       "      <th>0</th>\n",
       "      <td>5</td>\n",
       "      <td>Accuracy</td>\n",
       "      <td>0.88</td>\n",
       "      <td>0.76</td>\n",
       "    </tr>\n",
       "    <tr>\n",
       "      <th>1</th>\n",
       "      <td>5</td>\n",
       "      <td>Precision</td>\n",
       "      <td>0.85</td>\n",
       "      <td>0.44</td>\n",
       "    </tr>\n",
       "    <tr>\n",
       "      <th>2</th>\n",
       "      <td>5</td>\n",
       "      <td>Recall</td>\n",
       "      <td>0.92</td>\n",
       "      <td>0.69</td>\n",
       "    </tr>\n",
       "    <tr>\n",
       "      <th>0</th>\n",
       "      <td>6</td>\n",
       "      <td>Accuracy</td>\n",
       "      <td>0.88</td>\n",
       "      <td>0.79</td>\n",
       "    </tr>\n",
       "    <tr>\n",
       "      <th>1</th>\n",
       "      <td>6</td>\n",
       "      <td>Precision</td>\n",
       "      <td>0.88</td>\n",
       "      <td>0.47</td>\n",
       "    </tr>\n",
       "    <tr>\n",
       "      <th>2</th>\n",
       "      <td>6</td>\n",
       "      <td>Recall</td>\n",
       "      <td>0.87</td>\n",
       "      <td>0.62</td>\n",
       "    </tr>\n",
       "    <tr>\n",
       "      <th>0</th>\n",
       "      <td>7</td>\n",
       "      <td>Accuracy</td>\n",
       "      <td>0.87</td>\n",
       "      <td>0.77</td>\n",
       "    </tr>\n",
       "    <tr>\n",
       "      <th>1</th>\n",
       "      <td>7</td>\n",
       "      <td>Precision</td>\n",
       "      <td>0.84</td>\n",
       "      <td>0.44</td>\n",
       "    </tr>\n",
       "    <tr>\n",
       "      <th>2</th>\n",
       "      <td>7</td>\n",
       "      <td>Recall</td>\n",
       "      <td>0.91</td>\n",
       "      <td>0.70</td>\n",
       "    </tr>\n",
       "    <tr>\n",
       "      <th>0</th>\n",
       "      <td>8</td>\n",
       "      <td>Accuracy</td>\n",
       "      <td>0.87</td>\n",
       "      <td>0.79</td>\n",
       "    </tr>\n",
       "    <tr>\n",
       "      <th>1</th>\n",
       "      <td>8</td>\n",
       "      <td>Precision</td>\n",
       "      <td>0.86</td>\n",
       "      <td>0.47</td>\n",
       "    </tr>\n",
       "    <tr>\n",
       "      <th>2</th>\n",
       "      <td>8</td>\n",
       "      <td>Recall</td>\n",
       "      <td>0.87</td>\n",
       "      <td>0.65</td>\n",
       "    </tr>\n",
       "    <tr>\n",
       "      <th>0</th>\n",
       "      <td>9</td>\n",
       "      <td>Accuracy</td>\n",
       "      <td>0.86</td>\n",
       "      <td>0.77</td>\n",
       "    </tr>\n",
       "    <tr>\n",
       "      <th>1</th>\n",
       "      <td>9</td>\n",
       "      <td>Precision</td>\n",
       "      <td>0.84</td>\n",
       "      <td>0.45</td>\n",
       "    </tr>\n",
       "    <tr>\n",
       "      <th>2</th>\n",
       "      <td>9</td>\n",
       "      <td>Recall</td>\n",
       "      <td>0.90</td>\n",
       "      <td>0.70</td>\n",
       "    </tr>\n",
       "    <tr>\n",
       "      <th>0</th>\n",
       "      <td>10</td>\n",
       "      <td>Accuracy</td>\n",
       "      <td>0.86</td>\n",
       "      <td>0.79</td>\n",
       "    </tr>\n",
       "    <tr>\n",
       "      <th>1</th>\n",
       "      <td>10</td>\n",
       "      <td>Precision</td>\n",
       "      <td>0.85</td>\n",
       "      <td>0.47</td>\n",
       "    </tr>\n",
       "    <tr>\n",
       "      <th>2</th>\n",
       "      <td>10</td>\n",
       "      <td>Recall</td>\n",
       "      <td>0.87</td>\n",
       "      <td>0.67</td>\n",
       "    </tr>\n",
       "    <tr>\n",
       "      <th>0</th>\n",
       "      <td>11</td>\n",
       "      <td>Accuracy</td>\n",
       "      <td>0.86</td>\n",
       "      <td>0.77</td>\n",
       "    </tr>\n",
       "    <tr>\n",
       "      <th>1</th>\n",
       "      <td>11</td>\n",
       "      <td>Precision</td>\n",
       "      <td>0.83</td>\n",
       "      <td>0.44</td>\n",
       "    </tr>\n",
       "    <tr>\n",
       "      <th>2</th>\n",
       "      <td>11</td>\n",
       "      <td>Recall</td>\n",
       "      <td>0.90</td>\n",
       "      <td>0.71</td>\n",
       "    </tr>\n",
       "    <tr>\n",
       "      <th>0</th>\n",
       "      <td>12</td>\n",
       "      <td>Accuracy</td>\n",
       "      <td>0.86</td>\n",
       "      <td>0.79</td>\n",
       "    </tr>\n",
       "    <tr>\n",
       "      <th>1</th>\n",
       "      <td>12</td>\n",
       "      <td>Precision</td>\n",
       "      <td>0.85</td>\n",
       "      <td>0.47</td>\n",
       "    </tr>\n",
       "    <tr>\n",
       "      <th>2</th>\n",
       "      <td>12</td>\n",
       "      <td>Recall</td>\n",
       "      <td>0.87</td>\n",
       "      <td>0.68</td>\n",
       "    </tr>\n",
       "    <tr>\n",
       "      <th>0</th>\n",
       "      <td>13</td>\n",
       "      <td>Accuracy</td>\n",
       "      <td>0.85</td>\n",
       "      <td>0.77</td>\n",
       "    </tr>\n",
       "    <tr>\n",
       "      <th>1</th>\n",
       "      <td>13</td>\n",
       "      <td>Precision</td>\n",
       "      <td>0.83</td>\n",
       "      <td>0.44</td>\n",
       "    </tr>\n",
       "    <tr>\n",
       "      <th>2</th>\n",
       "      <td>13</td>\n",
       "      <td>Recall</td>\n",
       "      <td>0.89</td>\n",
       "      <td>0.72</td>\n",
       "    </tr>\n",
       "    <tr>\n",
       "      <th>0</th>\n",
       "      <td>14</td>\n",
       "      <td>Accuracy</td>\n",
       "      <td>0.85</td>\n",
       "      <td>0.79</td>\n",
       "    </tr>\n",
       "    <tr>\n",
       "      <th>1</th>\n",
       "      <td>14</td>\n",
       "      <td>Precision</td>\n",
       "      <td>0.84</td>\n",
       "      <td>0.47</td>\n",
       "    </tr>\n",
       "    <tr>\n",
       "      <th>2</th>\n",
       "      <td>14</td>\n",
       "      <td>Recall</td>\n",
       "      <td>0.87</td>\n",
       "      <td>0.70</td>\n",
       "    </tr>\n",
       "    <tr>\n",
       "      <th>0</th>\n",
       "      <td>15</td>\n",
       "      <td>Accuracy</td>\n",
       "      <td>0.85</td>\n",
       "      <td>0.77</td>\n",
       "    </tr>\n",
       "    <tr>\n",
       "      <th>1</th>\n",
       "      <td>15</td>\n",
       "      <td>Precision</td>\n",
       "      <td>0.83</td>\n",
       "      <td>0.45</td>\n",
       "    </tr>\n",
       "    <tr>\n",
       "      <th>2</th>\n",
       "      <td>15</td>\n",
       "      <td>Recall</td>\n",
       "      <td>0.89</td>\n",
       "      <td>0.73</td>\n",
       "    </tr>\n",
       "    <tr>\n",
       "      <th>0</th>\n",
       "      <td>16</td>\n",
       "      <td>Accuracy</td>\n",
       "      <td>0.85</td>\n",
       "      <td>0.79</td>\n",
       "    </tr>\n",
       "    <tr>\n",
       "      <th>1</th>\n",
       "      <td>16</td>\n",
       "      <td>Precision</td>\n",
       "      <td>0.84</td>\n",
       "      <td>0.47</td>\n",
       "    </tr>\n",
       "    <tr>\n",
       "      <th>2</th>\n",
       "      <td>16</td>\n",
       "      <td>Recall</td>\n",
       "      <td>0.87</td>\n",
       "      <td>0.70</td>\n",
       "    </tr>\n",
       "    <tr>\n",
       "      <th>0</th>\n",
       "      <td>17</td>\n",
       "      <td>Accuracy</td>\n",
       "      <td>0.85</td>\n",
       "      <td>0.77</td>\n",
       "    </tr>\n",
       "    <tr>\n",
       "      <th>1</th>\n",
       "      <td>17</td>\n",
       "      <td>Precision</td>\n",
       "      <td>0.82</td>\n",
       "      <td>0.44</td>\n",
       "    </tr>\n",
       "    <tr>\n",
       "      <th>2</th>\n",
       "      <td>17</td>\n",
       "      <td>Recall</td>\n",
       "      <td>0.89</td>\n",
       "      <td>0.72</td>\n",
       "    </tr>\n",
       "    <tr>\n",
       "      <th>0</th>\n",
       "      <td>18</td>\n",
       "      <td>Accuracy</td>\n",
       "      <td>0.85</td>\n",
       "      <td>0.78</td>\n",
       "    </tr>\n",
       "    <tr>\n",
       "      <th>1</th>\n",
       "      <td>18</td>\n",
       "      <td>Precision</td>\n",
       "      <td>0.84</td>\n",
       "      <td>0.46</td>\n",
       "    </tr>\n",
       "    <tr>\n",
       "      <th>2</th>\n",
       "      <td>18</td>\n",
       "      <td>Recall</td>\n",
       "      <td>0.87</td>\n",
       "      <td>0.70</td>\n",
       "    </tr>\n",
       "    <tr>\n",
       "      <th>0</th>\n",
       "      <td>19</td>\n",
       "      <td>Accuracy</td>\n",
       "      <td>0.85</td>\n",
       "      <td>0.77</td>\n",
       "    </tr>\n",
       "    <tr>\n",
       "      <th>1</th>\n",
       "      <td>19</td>\n",
       "      <td>Precision</td>\n",
       "      <td>0.82</td>\n",
       "      <td>0.45</td>\n",
       "    </tr>\n",
       "    <tr>\n",
       "      <th>2</th>\n",
       "      <td>19</td>\n",
       "      <td>Recall</td>\n",
       "      <td>0.88</td>\n",
       "      <td>0.72</td>\n",
       "    </tr>\n",
       "    <tr>\n",
       "      <th>0</th>\n",
       "      <td>20</td>\n",
       "      <td>Accuracy</td>\n",
       "      <td>0.85</td>\n",
       "      <td>0.78</td>\n",
       "    </tr>\n",
       "    <tr>\n",
       "      <th>1</th>\n",
       "      <td>20</td>\n",
       "      <td>Precision</td>\n",
       "      <td>0.83</td>\n",
       "      <td>0.46</td>\n",
       "    </tr>\n",
       "    <tr>\n",
       "      <th>2</th>\n",
       "      <td>20</td>\n",
       "      <td>Recall</td>\n",
       "      <td>0.87</td>\n",
       "      <td>0.69</td>\n",
       "    </tr>\n",
       "  </tbody>\n",
       "</table>\n",
       "</div>"
      ],
      "text/plain": [
       "    k Error_metric  Train  Test\n",
       "0   2     Accuracy   0.93  0.81\n",
       "1   2    Precision   1.00  0.50\n",
       "2   2       Recall   0.87  0.50\n",
       "0   3     Accuracy   0.91  0.77\n",
       "1   3    Precision   0.88  0.44\n",
       "2   3       Recall   0.94  0.68\n",
       "0   4     Accuracy   0.89  0.79\n",
       "1   4    Precision   0.91  0.48\n",
       "2   4       Recall   0.87  0.58\n",
       "0   5     Accuracy   0.88  0.76\n",
       "1   5    Precision   0.85  0.44\n",
       "2   5       Recall   0.92  0.69\n",
       "0   6     Accuracy   0.88  0.79\n",
       "1   6    Precision   0.88  0.47\n",
       "2   6       Recall   0.87  0.62\n",
       "0   7     Accuracy   0.87  0.77\n",
       "1   7    Precision   0.84  0.44\n",
       "2   7       Recall   0.91  0.70\n",
       "0   8     Accuracy   0.87  0.79\n",
       "1   8    Precision   0.86  0.47\n",
       "2   8       Recall   0.87  0.65\n",
       "0   9     Accuracy   0.86  0.77\n",
       "1   9    Precision   0.84  0.45\n",
       "2   9       Recall   0.90  0.70\n",
       "0  10     Accuracy   0.86  0.79\n",
       "1  10    Precision   0.85  0.47\n",
       "2  10       Recall   0.87  0.67\n",
       "0  11     Accuracy   0.86  0.77\n",
       "1  11    Precision   0.83  0.44\n",
       "2  11       Recall   0.90  0.71\n",
       "0  12     Accuracy   0.86  0.79\n",
       "1  12    Precision   0.85  0.47\n",
       "2  12       Recall   0.87  0.68\n",
       "0  13     Accuracy   0.85  0.77\n",
       "1  13    Precision   0.83  0.44\n",
       "2  13       Recall   0.89  0.72\n",
       "0  14     Accuracy   0.85  0.79\n",
       "1  14    Precision   0.84  0.47\n",
       "2  14       Recall   0.87  0.70\n",
       "0  15     Accuracy   0.85  0.77\n",
       "1  15    Precision   0.83  0.45\n",
       "2  15       Recall   0.89  0.73\n",
       "0  16     Accuracy   0.85  0.79\n",
       "1  16    Precision   0.84  0.47\n",
       "2  16       Recall   0.87  0.70\n",
       "0  17     Accuracy   0.85  0.77\n",
       "1  17    Precision   0.82  0.44\n",
       "2  17       Recall   0.89  0.72\n",
       "0  18     Accuracy   0.85  0.78\n",
       "1  18    Precision   0.84  0.46\n",
       "2  18       Recall   0.87  0.70\n",
       "0  19     Accuracy   0.85  0.77\n",
       "1  19    Precision   0.82  0.45\n",
       "2  19       Recall   0.88  0.72\n",
       "0  20     Accuracy   0.85  0.78\n",
       "1  20    Precision   0.83  0.46\n",
       "2  20       Recall   0.87  0.69"
      ]
     },
     "execution_count": 28,
     "metadata": {},
     "output_type": "execute_result"
    }
   ],
   "source": [
    "# K loops for 21 times and displays result for each given neigbor their error metrics\n",
    "full = pd.DataFrame()\n",
    "\n",
    "models = {'k': [] }\n",
    "\n",
    "for k in range(2,21):\n",
    "\n",
    "    knn = KNeighborsClassifier(n_neighbors=k)\n",
    "    knn.fit(X_train_trans, y_train)\n",
    "\n",
    "    models['k'] = [k, knn]\n",
    "\n",
    "    y_pred_train_knn = knn.predict(X_train_trans)\n",
    "    y_pred_test_knn  = knn.predict(X_test_trans)\n",
    "\n",
    "    performance_knn, _, _ = evaluate_classification_model(y_train, y_pred_train_knn, y_test, y_pred_test_knn)\n",
    "    temp = pd.DataFrame({'k': [k]*3, 'Error_metric': performance_knn['Error_metric'], \n",
    "                         'Train': performance_knn['Train'], 'Test': performance_knn['Test']})\n",
    "    full = pd.concat([full,temp], axis=0)\n",
    "\n",
    "full"
   ]
  },
  {
   "cell_type": "code",
   "execution_count": null,
   "id": "ef38569d",
   "metadata": {},
   "outputs": [],
   "source": [
    "# full.sort_values(['Train', 'Test'], ascending=False).groupby('Test').head()\n"
   ]
  },
  {
   "cell_type": "markdown",
   "id": "db5796d5",
   "metadata": {},
   "source": [
    "### CROSS VALIDATION"
   ]
  },
  {
   "cell_type": "code",
   "execution_count": 29,
   "id": "49e25238",
   "metadata": {},
   "outputs": [
    {
     "data": {
      "text/plain": [
       "array([0.7683838 , 0.82383012, 0.85405193, 0.83005507, 0.8379229 ])"
      ]
     },
     "execution_count": 29,
     "metadata": {},
     "output_type": "execute_result"
    }
   ],
   "source": [
    "#performing a cross val on my train set\n",
    "#this technique can be used to choose the best value of k\n",
    "scores=cross_val_score(knn, X_train_trans, y_train, cv=5)\n",
    "scores"
   ]
  },
  {
   "cell_type": "code",
   "execution_count": 30,
   "id": "2d87e877",
   "metadata": {},
   "outputs": [
    {
     "name": "stdout",
     "output_type": "stream",
     "text": [
      "0.82 accuracy with a standard deviation of 0.03\n"
     ]
    }
   ],
   "source": [
    "#print mean of the accuracy with its standard deviation \n",
    "print(\"%0.2f accuracy with a standard deviation of %0.2f\" % (scores.mean(), scores.std()))"
   ]
  },
  {
   "cell_type": "code",
   "execution_count": null,
   "id": "d3ae6af5",
   "metadata": {},
   "outputs": [],
   "source": []
  }
 ],
 "metadata": {
  "kernelspec": {
   "display_name": "Python 3 (ipykernel)",
   "language": "python",
   "name": "python3"
  },
  "language_info": {
   "codemirror_mode": {
    "name": "ipython",
    "version": 3
   },
   "file_extension": ".py",
   "mimetype": "text/x-python",
   "name": "python",
   "nbconvert_exporter": "python",
   "pygments_lexer": "ipython3",
   "version": "3.9.12"
  }
 },
 "nbformat": 4,
 "nbformat_minor": 5
}
