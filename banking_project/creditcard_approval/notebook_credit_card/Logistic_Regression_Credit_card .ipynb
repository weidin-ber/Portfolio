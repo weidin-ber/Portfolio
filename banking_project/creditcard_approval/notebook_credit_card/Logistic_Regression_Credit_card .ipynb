{
 "cells": [
  {
   "cell_type": "code",
   "execution_count": 465,
   "id": "283ecde1",
   "metadata": {},
   "outputs": [],
   "source": [
    "import numpy as np\n",
    "import pandas as pd\n",
    "import matplotlib.pyplot as plt\n",
    "%matplotlib inline\n",
    "import seaborn as sns\n",
    "from sklearn.preprocessing import StandardScaler\n",
    "from sklearn.preprocessing import quantile_transform\n",
    "from sklearn.preprocessing import minmax_scale\n",
    "from sklearn.preprocessing import OneHotEncoder  ##. better to use dummy from pandas \n",
    "from sklearn.preprocessing import PowerTransformer\n",
    "from scipy.stats import boxcox\n",
    "from sklearn.linear_model import LinearRegression\n",
    "from sklearn.model_selection import train_test_split\n",
    "import statsmodels.api as sm\n",
    "from scipy.stats import boxcox\n",
    "from sklearn.metrics import r2_score\n",
    "from sklearn.metrics import mean_squared_error as mse\n",
    "from sklearn.metrics import mean_absolute_error as mae\n",
    "pd.options.display.max_rows = 50\n",
    "import math\n",
    "from imblearn.over_sampling import SMOTE\n",
    "smote = SMOTE()"
   ]
  },
  {
   "cell_type": "code",
   "execution_count": 466,
   "id": "06f5f1cb",
   "metadata": {},
   "outputs": [
    {
     "data": {
      "text/html": [
       "<div>\n",
       "<style scoped>\n",
       "    .dataframe tbody tr th:only-of-type {\n",
       "        vertical-align: middle;\n",
       "    }\n",
       "\n",
       "    .dataframe tbody tr th {\n",
       "        vertical-align: top;\n",
       "    }\n",
       "\n",
       "    .dataframe thead th {\n",
       "        text-align: right;\n",
       "    }\n",
       "</style>\n",
       "<table border=\"1\" class=\"dataframe\">\n",
       "  <thead>\n",
       "    <tr style=\"text-align: right;\">\n",
       "      <th></th>\n",
       "      <th>Unnamed: 0</th>\n",
       "      <th>AMT_INCOME_TOTAL</th>\n",
       "      <th>DAYS_BIRTH</th>\n",
       "      <th>DAYS_EMPLOYED</th>\n",
       "      <th>CNT_FAM_MEMBERS</th>\n",
       "      <th>STATUS</th>\n",
       "      <th>dmy_M</th>\n",
       "      <th>dmy_Y</th>\n",
       "      <th>dmy_Y.1</th>\n",
       "      <th>dmy_Pensioner</th>\n",
       "      <th>...</th>\n",
       "      <th>dmy_Low-skill Laborers</th>\n",
       "      <th>dmy_Managers</th>\n",
       "      <th>dmy_Medicine staff</th>\n",
       "      <th>dmy_Other</th>\n",
       "      <th>dmy_Private service staff</th>\n",
       "      <th>dmy_Realty agents</th>\n",
       "      <th>dmy_Sales staff</th>\n",
       "      <th>dmy_Secretaries</th>\n",
       "      <th>dmy_Security staff</th>\n",
       "      <th>dmy_Waiters/barmen staff</th>\n",
       "    </tr>\n",
       "  </thead>\n",
       "  <tbody>\n",
       "    <tr>\n",
       "      <th>0</th>\n",
       "      <td>0</td>\n",
       "      <td>427500.0</td>\n",
       "      <td>33</td>\n",
       "      <td>12</td>\n",
       "      <td>2</td>\n",
       "      <td>1</td>\n",
       "      <td>1</td>\n",
       "      <td>1</td>\n",
       "      <td>1</td>\n",
       "      <td>0</td>\n",
       "      <td>...</td>\n",
       "      <td>0</td>\n",
       "      <td>0</td>\n",
       "      <td>0</td>\n",
       "      <td>1</td>\n",
       "      <td>0</td>\n",
       "      <td>0</td>\n",
       "      <td>0</td>\n",
       "      <td>0</td>\n",
       "      <td>0</td>\n",
       "      <td>0</td>\n",
       "    </tr>\n",
       "    <tr>\n",
       "      <th>1</th>\n",
       "      <td>1</td>\n",
       "      <td>427500.0</td>\n",
       "      <td>33</td>\n",
       "      <td>12</td>\n",
       "      <td>2</td>\n",
       "      <td>1</td>\n",
       "      <td>1</td>\n",
       "      <td>1</td>\n",
       "      <td>1</td>\n",
       "      <td>0</td>\n",
       "      <td>...</td>\n",
       "      <td>0</td>\n",
       "      <td>0</td>\n",
       "      <td>0</td>\n",
       "      <td>1</td>\n",
       "      <td>0</td>\n",
       "      <td>0</td>\n",
       "      <td>0</td>\n",
       "      <td>0</td>\n",
       "      <td>0</td>\n",
       "      <td>0</td>\n",
       "    </tr>\n",
       "    <tr>\n",
       "      <th>2</th>\n",
       "      <td>2</td>\n",
       "      <td>112500.0</td>\n",
       "      <td>59</td>\n",
       "      <td>3</td>\n",
       "      <td>2</td>\n",
       "      <td>0</td>\n",
       "      <td>1</td>\n",
       "      <td>1</td>\n",
       "      <td>1</td>\n",
       "      <td>0</td>\n",
       "      <td>...</td>\n",
       "      <td>0</td>\n",
       "      <td>0</td>\n",
       "      <td>0</td>\n",
       "      <td>0</td>\n",
       "      <td>0</td>\n",
       "      <td>0</td>\n",
       "      <td>0</td>\n",
       "      <td>0</td>\n",
       "      <td>1</td>\n",
       "      <td>0</td>\n",
       "    </tr>\n",
       "    <tr>\n",
       "      <th>3</th>\n",
       "      <td>3</td>\n",
       "      <td>270000.0</td>\n",
       "      <td>52</td>\n",
       "      <td>8</td>\n",
       "      <td>1</td>\n",
       "      <td>0</td>\n",
       "      <td>0</td>\n",
       "      <td>0</td>\n",
       "      <td>1</td>\n",
       "      <td>0</td>\n",
       "      <td>...</td>\n",
       "      <td>0</td>\n",
       "      <td>0</td>\n",
       "      <td>0</td>\n",
       "      <td>0</td>\n",
       "      <td>0</td>\n",
       "      <td>0</td>\n",
       "      <td>1</td>\n",
       "      <td>0</td>\n",
       "      <td>0</td>\n",
       "      <td>0</td>\n",
       "    </tr>\n",
       "    <tr>\n",
       "      <th>4</th>\n",
       "      <td>4</td>\n",
       "      <td>270000.0</td>\n",
       "      <td>52</td>\n",
       "      <td>8</td>\n",
       "      <td>1</td>\n",
       "      <td>0</td>\n",
       "      <td>0</td>\n",
       "      <td>0</td>\n",
       "      <td>1</td>\n",
       "      <td>0</td>\n",
       "      <td>...</td>\n",
       "      <td>0</td>\n",
       "      <td>0</td>\n",
       "      <td>0</td>\n",
       "      <td>0</td>\n",
       "      <td>0</td>\n",
       "      <td>0</td>\n",
       "      <td>1</td>\n",
       "      <td>0</td>\n",
       "      <td>0</td>\n",
       "      <td>0</td>\n",
       "    </tr>\n",
       "    <tr>\n",
       "      <th>...</th>\n",
       "      <td>...</td>\n",
       "      <td>...</td>\n",
       "      <td>...</td>\n",
       "      <td>...</td>\n",
       "      <td>...</td>\n",
       "      <td>...</td>\n",
       "      <td>...</td>\n",
       "      <td>...</td>\n",
       "      <td>...</td>\n",
       "      <td>...</td>\n",
       "      <td>...</td>\n",
       "      <td>...</td>\n",
       "      <td>...</td>\n",
       "      <td>...</td>\n",
       "      <td>...</td>\n",
       "      <td>...</td>\n",
       "      <td>...</td>\n",
       "      <td>...</td>\n",
       "      <td>...</td>\n",
       "      <td>...</td>\n",
       "      <td>...</td>\n",
       "    </tr>\n",
       "    <tr>\n",
       "      <th>22426</th>\n",
       "      <td>22426</td>\n",
       "      <td>130500.0</td>\n",
       "      <td>44</td>\n",
       "      <td>26</td>\n",
       "      <td>2</td>\n",
       "      <td>1</td>\n",
       "      <td>0</td>\n",
       "      <td>1</td>\n",
       "      <td>1</td>\n",
       "      <td>0</td>\n",
       "      <td>...</td>\n",
       "      <td>0</td>\n",
       "      <td>0</td>\n",
       "      <td>0</td>\n",
       "      <td>0</td>\n",
       "      <td>0</td>\n",
       "      <td>0</td>\n",
       "      <td>0</td>\n",
       "      <td>0</td>\n",
       "      <td>0</td>\n",
       "      <td>0</td>\n",
       "    </tr>\n",
       "    <tr>\n",
       "      <th>22427</th>\n",
       "      <td>22427</td>\n",
       "      <td>315000.0</td>\n",
       "      <td>48</td>\n",
       "      <td>7</td>\n",
       "      <td>2</td>\n",
       "      <td>1</td>\n",
       "      <td>1</td>\n",
       "      <td>1</td>\n",
       "      <td>1</td>\n",
       "      <td>0</td>\n",
       "      <td>...</td>\n",
       "      <td>0</td>\n",
       "      <td>1</td>\n",
       "      <td>0</td>\n",
       "      <td>0</td>\n",
       "      <td>0</td>\n",
       "      <td>0</td>\n",
       "      <td>0</td>\n",
       "      <td>0</td>\n",
       "      <td>0</td>\n",
       "      <td>0</td>\n",
       "    </tr>\n",
       "    <tr>\n",
       "      <th>22428</th>\n",
       "      <td>22428</td>\n",
       "      <td>157500.0</td>\n",
       "      <td>34</td>\n",
       "      <td>4</td>\n",
       "      <td>2</td>\n",
       "      <td>1</td>\n",
       "      <td>0</td>\n",
       "      <td>0</td>\n",
       "      <td>1</td>\n",
       "      <td>0</td>\n",
       "      <td>...</td>\n",
       "      <td>0</td>\n",
       "      <td>0</td>\n",
       "      <td>1</td>\n",
       "      <td>0</td>\n",
       "      <td>0</td>\n",
       "      <td>0</td>\n",
       "      <td>0</td>\n",
       "      <td>0</td>\n",
       "      <td>0</td>\n",
       "      <td>0</td>\n",
       "    </tr>\n",
       "    <tr>\n",
       "      <th>22429</th>\n",
       "      <td>22429</td>\n",
       "      <td>157500.0</td>\n",
       "      <td>34</td>\n",
       "      <td>4</td>\n",
       "      <td>2</td>\n",
       "      <td>1</td>\n",
       "      <td>0</td>\n",
       "      <td>0</td>\n",
       "      <td>1</td>\n",
       "      <td>1</td>\n",
       "      <td>...</td>\n",
       "      <td>0</td>\n",
       "      <td>0</td>\n",
       "      <td>1</td>\n",
       "      <td>0</td>\n",
       "      <td>0</td>\n",
       "      <td>0</td>\n",
       "      <td>0</td>\n",
       "      <td>0</td>\n",
       "      <td>0</td>\n",
       "      <td>0</td>\n",
       "    </tr>\n",
       "    <tr>\n",
       "      <th>22430</th>\n",
       "      <td>22430</td>\n",
       "      <td>112500.0</td>\n",
       "      <td>25</td>\n",
       "      <td>3</td>\n",
       "      <td>1</td>\n",
       "      <td>1</td>\n",
       "      <td>1</td>\n",
       "      <td>0</td>\n",
       "      <td>1</td>\n",
       "      <td>0</td>\n",
       "      <td>...</td>\n",
       "      <td>0</td>\n",
       "      <td>0</td>\n",
       "      <td>0</td>\n",
       "      <td>0</td>\n",
       "      <td>0</td>\n",
       "      <td>0</td>\n",
       "      <td>0</td>\n",
       "      <td>0</td>\n",
       "      <td>0</td>\n",
       "      <td>0</td>\n",
       "    </tr>\n",
       "  </tbody>\n",
       "</table>\n",
       "<p>22431 rows × 43 columns</p>\n",
       "</div>"
      ],
      "text/plain": [
       "       Unnamed: 0  AMT_INCOME_TOTAL  DAYS_BIRTH  DAYS_EMPLOYED  \\\n",
       "0               0          427500.0          33             12   \n",
       "1               1          427500.0          33             12   \n",
       "2               2          112500.0          59              3   \n",
       "3               3          270000.0          52              8   \n",
       "4               4          270000.0          52              8   \n",
       "...           ...               ...         ...            ...   \n",
       "22426       22426          130500.0          44             26   \n",
       "22427       22427          315000.0          48              7   \n",
       "22428       22428          157500.0          34              4   \n",
       "22429       22429          157500.0          34              4   \n",
       "22430       22430          112500.0          25              3   \n",
       "\n",
       "       CNT_FAM_MEMBERS  STATUS  dmy_M  dmy_Y  dmy_Y.1  dmy_Pensioner  ...  \\\n",
       "0                    2       1      1      1        1              0  ...   \n",
       "1                    2       1      1      1        1              0  ...   \n",
       "2                    2       0      1      1        1              0  ...   \n",
       "3                    1       0      0      0        1              0  ...   \n",
       "4                    1       0      0      0        1              0  ...   \n",
       "...                ...     ...    ...    ...      ...            ...  ...   \n",
       "22426                2       1      0      1        1              0  ...   \n",
       "22427                2       1      1      1        1              0  ...   \n",
       "22428                2       1      0      0        1              0  ...   \n",
       "22429                2       1      0      0        1              1  ...   \n",
       "22430                1       1      1      0        1              0  ...   \n",
       "\n",
       "       dmy_Low-skill Laborers  dmy_Managers  dmy_Medicine staff  dmy_Other  \\\n",
       "0                           0             0                   0          1   \n",
       "1                           0             0                   0          1   \n",
       "2                           0             0                   0          0   \n",
       "3                           0             0                   0          0   \n",
       "4                           0             0                   0          0   \n",
       "...                       ...           ...                 ...        ...   \n",
       "22426                       0             0                   0          0   \n",
       "22427                       0             1                   0          0   \n",
       "22428                       0             0                   1          0   \n",
       "22429                       0             0                   1          0   \n",
       "22430                       0             0                   0          0   \n",
       "\n",
       "       dmy_Private service staff  dmy_Realty agents  dmy_Sales staff  \\\n",
       "0                              0                  0                0   \n",
       "1                              0                  0                0   \n",
       "2                              0                  0                0   \n",
       "3                              0                  0                1   \n",
       "4                              0                  0                1   \n",
       "...                          ...                ...              ...   \n",
       "22426                          0                  0                0   \n",
       "22427                          0                  0                0   \n",
       "22428                          0                  0                0   \n",
       "22429                          0                  0                0   \n",
       "22430                          0                  0                0   \n",
       "\n",
       "       dmy_Secretaries  dmy_Security staff  dmy_Waiters/barmen staff  \n",
       "0                    0                   0                         0  \n",
       "1                    0                   0                         0  \n",
       "2                    0                   1                         0  \n",
       "3                    0                   0                         0  \n",
       "4                    0                   0                         0  \n",
       "...                ...                 ...                       ...  \n",
       "22426                0                   0                         0  \n",
       "22427                0                   0                         0  \n",
       "22428                0                   0                         0  \n",
       "22429                0                   0                         0  \n",
       "22430                0                   0                         0  \n",
       "\n",
       "[22431 rows x 43 columns]"
      ]
     },
     "execution_count": 466,
     "metadata": {},
     "output_type": "execute_result"
    }
   ],
   "source": [
    "credit_card_df= pd.read_csv('data/dataXX.csv')\n",
    "credit_card_df"
   ]
  },
  {
   "cell_type": "code",
   "execution_count": 467,
   "id": "0f07bcf3",
   "metadata": {},
   "outputs": [],
   "source": [
    "credit_card_df = credit_card_df.drop(columns=['Unnamed: 0'])"
   ]
  },
  {
   "cell_type": "code",
   "execution_count": 468,
   "id": "748900d0",
   "metadata": {},
   "outputs": [
    {
     "data": {
      "text/html": [
       "<div>\n",
       "<style scoped>\n",
       "    .dataframe tbody tr th:only-of-type {\n",
       "        vertical-align: middle;\n",
       "    }\n",
       "\n",
       "    .dataframe tbody tr th {\n",
       "        vertical-align: top;\n",
       "    }\n",
       "\n",
       "    .dataframe thead th {\n",
       "        text-align: right;\n",
       "    }\n",
       "</style>\n",
       "<table border=\"1\" class=\"dataframe\">\n",
       "  <thead>\n",
       "    <tr style=\"text-align: right;\">\n",
       "      <th></th>\n",
       "      <th>AMT_INCOME_TOTAL</th>\n",
       "      <th>DAYS_BIRTH</th>\n",
       "      <th>DAYS_EMPLOYED</th>\n",
       "      <th>CNT_FAM_MEMBERS</th>\n",
       "      <th>STATUS</th>\n",
       "      <th>dmy_M</th>\n",
       "      <th>dmy_Y</th>\n",
       "      <th>dmy_Y.1</th>\n",
       "      <th>dmy_Pensioner</th>\n",
       "      <th>dmy_State servant</th>\n",
       "      <th>...</th>\n",
       "      <th>dmy_Low-skill Laborers</th>\n",
       "      <th>dmy_Managers</th>\n",
       "      <th>dmy_Medicine staff</th>\n",
       "      <th>dmy_Other</th>\n",
       "      <th>dmy_Private service staff</th>\n",
       "      <th>dmy_Realty agents</th>\n",
       "      <th>dmy_Sales staff</th>\n",
       "      <th>dmy_Secretaries</th>\n",
       "      <th>dmy_Security staff</th>\n",
       "      <th>dmy_Waiters/barmen staff</th>\n",
       "    </tr>\n",
       "  </thead>\n",
       "  <tbody>\n",
       "    <tr>\n",
       "      <th>0</th>\n",
       "      <td>427500.0</td>\n",
       "      <td>33</td>\n",
       "      <td>12</td>\n",
       "      <td>2</td>\n",
       "      <td>1</td>\n",
       "      <td>1</td>\n",
       "      <td>1</td>\n",
       "      <td>1</td>\n",
       "      <td>0</td>\n",
       "      <td>0</td>\n",
       "      <td>...</td>\n",
       "      <td>0</td>\n",
       "      <td>0</td>\n",
       "      <td>0</td>\n",
       "      <td>1</td>\n",
       "      <td>0</td>\n",
       "      <td>0</td>\n",
       "      <td>0</td>\n",
       "      <td>0</td>\n",
       "      <td>0</td>\n",
       "      <td>0</td>\n",
       "    </tr>\n",
       "    <tr>\n",
       "      <th>1</th>\n",
       "      <td>427500.0</td>\n",
       "      <td>33</td>\n",
       "      <td>12</td>\n",
       "      <td>2</td>\n",
       "      <td>1</td>\n",
       "      <td>1</td>\n",
       "      <td>1</td>\n",
       "      <td>1</td>\n",
       "      <td>0</td>\n",
       "      <td>0</td>\n",
       "      <td>...</td>\n",
       "      <td>0</td>\n",
       "      <td>0</td>\n",
       "      <td>0</td>\n",
       "      <td>1</td>\n",
       "      <td>0</td>\n",
       "      <td>0</td>\n",
       "      <td>0</td>\n",
       "      <td>0</td>\n",
       "      <td>0</td>\n",
       "      <td>0</td>\n",
       "    </tr>\n",
       "    <tr>\n",
       "      <th>2</th>\n",
       "      <td>112500.0</td>\n",
       "      <td>59</td>\n",
       "      <td>3</td>\n",
       "      <td>2</td>\n",
       "      <td>0</td>\n",
       "      <td>1</td>\n",
       "      <td>1</td>\n",
       "      <td>1</td>\n",
       "      <td>0</td>\n",
       "      <td>0</td>\n",
       "      <td>...</td>\n",
       "      <td>0</td>\n",
       "      <td>0</td>\n",
       "      <td>0</td>\n",
       "      <td>0</td>\n",
       "      <td>0</td>\n",
       "      <td>0</td>\n",
       "      <td>0</td>\n",
       "      <td>0</td>\n",
       "      <td>1</td>\n",
       "      <td>0</td>\n",
       "    </tr>\n",
       "    <tr>\n",
       "      <th>3</th>\n",
       "      <td>270000.0</td>\n",
       "      <td>52</td>\n",
       "      <td>8</td>\n",
       "      <td>1</td>\n",
       "      <td>0</td>\n",
       "      <td>0</td>\n",
       "      <td>0</td>\n",
       "      <td>1</td>\n",
       "      <td>0</td>\n",
       "      <td>0</td>\n",
       "      <td>...</td>\n",
       "      <td>0</td>\n",
       "      <td>0</td>\n",
       "      <td>0</td>\n",
       "      <td>0</td>\n",
       "      <td>0</td>\n",
       "      <td>0</td>\n",
       "      <td>1</td>\n",
       "      <td>0</td>\n",
       "      <td>0</td>\n",
       "      <td>0</td>\n",
       "    </tr>\n",
       "    <tr>\n",
       "      <th>4</th>\n",
       "      <td>270000.0</td>\n",
       "      <td>52</td>\n",
       "      <td>8</td>\n",
       "      <td>1</td>\n",
       "      <td>0</td>\n",
       "      <td>0</td>\n",
       "      <td>0</td>\n",
       "      <td>1</td>\n",
       "      <td>0</td>\n",
       "      <td>0</td>\n",
       "      <td>...</td>\n",
       "      <td>0</td>\n",
       "      <td>0</td>\n",
       "      <td>0</td>\n",
       "      <td>0</td>\n",
       "      <td>0</td>\n",
       "      <td>0</td>\n",
       "      <td>1</td>\n",
       "      <td>0</td>\n",
       "      <td>0</td>\n",
       "      <td>0</td>\n",
       "    </tr>\n",
       "    <tr>\n",
       "      <th>...</th>\n",
       "      <td>...</td>\n",
       "      <td>...</td>\n",
       "      <td>...</td>\n",
       "      <td>...</td>\n",
       "      <td>...</td>\n",
       "      <td>...</td>\n",
       "      <td>...</td>\n",
       "      <td>...</td>\n",
       "      <td>...</td>\n",
       "      <td>...</td>\n",
       "      <td>...</td>\n",
       "      <td>...</td>\n",
       "      <td>...</td>\n",
       "      <td>...</td>\n",
       "      <td>...</td>\n",
       "      <td>...</td>\n",
       "      <td>...</td>\n",
       "      <td>...</td>\n",
       "      <td>...</td>\n",
       "      <td>...</td>\n",
       "      <td>...</td>\n",
       "    </tr>\n",
       "    <tr>\n",
       "      <th>22426</th>\n",
       "      <td>130500.0</td>\n",
       "      <td>44</td>\n",
       "      <td>26</td>\n",
       "      <td>2</td>\n",
       "      <td>1</td>\n",
       "      <td>0</td>\n",
       "      <td>1</td>\n",
       "      <td>1</td>\n",
       "      <td>0</td>\n",
       "      <td>0</td>\n",
       "      <td>...</td>\n",
       "      <td>0</td>\n",
       "      <td>0</td>\n",
       "      <td>0</td>\n",
       "      <td>0</td>\n",
       "      <td>0</td>\n",
       "      <td>0</td>\n",
       "      <td>0</td>\n",
       "      <td>0</td>\n",
       "      <td>0</td>\n",
       "      <td>0</td>\n",
       "    </tr>\n",
       "    <tr>\n",
       "      <th>22427</th>\n",
       "      <td>315000.0</td>\n",
       "      <td>48</td>\n",
       "      <td>7</td>\n",
       "      <td>2</td>\n",
       "      <td>1</td>\n",
       "      <td>1</td>\n",
       "      <td>1</td>\n",
       "      <td>1</td>\n",
       "      <td>0</td>\n",
       "      <td>0</td>\n",
       "      <td>...</td>\n",
       "      <td>0</td>\n",
       "      <td>1</td>\n",
       "      <td>0</td>\n",
       "      <td>0</td>\n",
       "      <td>0</td>\n",
       "      <td>0</td>\n",
       "      <td>0</td>\n",
       "      <td>0</td>\n",
       "      <td>0</td>\n",
       "      <td>0</td>\n",
       "    </tr>\n",
       "    <tr>\n",
       "      <th>22428</th>\n",
       "      <td>157500.0</td>\n",
       "      <td>34</td>\n",
       "      <td>4</td>\n",
       "      <td>2</td>\n",
       "      <td>1</td>\n",
       "      <td>0</td>\n",
       "      <td>0</td>\n",
       "      <td>1</td>\n",
       "      <td>0</td>\n",
       "      <td>0</td>\n",
       "      <td>...</td>\n",
       "      <td>0</td>\n",
       "      <td>0</td>\n",
       "      <td>1</td>\n",
       "      <td>0</td>\n",
       "      <td>0</td>\n",
       "      <td>0</td>\n",
       "      <td>0</td>\n",
       "      <td>0</td>\n",
       "      <td>0</td>\n",
       "      <td>0</td>\n",
       "    </tr>\n",
       "    <tr>\n",
       "      <th>22429</th>\n",
       "      <td>157500.0</td>\n",
       "      <td>34</td>\n",
       "      <td>4</td>\n",
       "      <td>2</td>\n",
       "      <td>1</td>\n",
       "      <td>0</td>\n",
       "      <td>0</td>\n",
       "      <td>1</td>\n",
       "      <td>1</td>\n",
       "      <td>0</td>\n",
       "      <td>...</td>\n",
       "      <td>0</td>\n",
       "      <td>0</td>\n",
       "      <td>1</td>\n",
       "      <td>0</td>\n",
       "      <td>0</td>\n",
       "      <td>0</td>\n",
       "      <td>0</td>\n",
       "      <td>0</td>\n",
       "      <td>0</td>\n",
       "      <td>0</td>\n",
       "    </tr>\n",
       "    <tr>\n",
       "      <th>22430</th>\n",
       "      <td>112500.0</td>\n",
       "      <td>25</td>\n",
       "      <td>3</td>\n",
       "      <td>1</td>\n",
       "      <td>1</td>\n",
       "      <td>1</td>\n",
       "      <td>0</td>\n",
       "      <td>1</td>\n",
       "      <td>0</td>\n",
       "      <td>0</td>\n",
       "      <td>...</td>\n",
       "      <td>0</td>\n",
       "      <td>0</td>\n",
       "      <td>0</td>\n",
       "      <td>0</td>\n",
       "      <td>0</td>\n",
       "      <td>0</td>\n",
       "      <td>0</td>\n",
       "      <td>0</td>\n",
       "      <td>0</td>\n",
       "      <td>0</td>\n",
       "    </tr>\n",
       "  </tbody>\n",
       "</table>\n",
       "<p>22431 rows × 42 columns</p>\n",
       "</div>"
      ],
      "text/plain": [
       "       AMT_INCOME_TOTAL  DAYS_BIRTH  DAYS_EMPLOYED  CNT_FAM_MEMBERS  STATUS  \\\n",
       "0              427500.0          33             12                2       1   \n",
       "1              427500.0          33             12                2       1   \n",
       "2              112500.0          59              3                2       0   \n",
       "3              270000.0          52              8                1       0   \n",
       "4              270000.0          52              8                1       0   \n",
       "...                 ...         ...            ...              ...     ...   \n",
       "22426          130500.0          44             26                2       1   \n",
       "22427          315000.0          48              7                2       1   \n",
       "22428          157500.0          34              4                2       1   \n",
       "22429          157500.0          34              4                2       1   \n",
       "22430          112500.0          25              3                1       1   \n",
       "\n",
       "       dmy_M  dmy_Y  dmy_Y.1  dmy_Pensioner  dmy_State servant  ...  \\\n",
       "0          1      1        1              0                  0  ...   \n",
       "1          1      1        1              0                  0  ...   \n",
       "2          1      1        1              0                  0  ...   \n",
       "3          0      0        1              0                  0  ...   \n",
       "4          0      0        1              0                  0  ...   \n",
       "...      ...    ...      ...            ...                ...  ...   \n",
       "22426      0      1        1              0                  0  ...   \n",
       "22427      1      1        1              0                  0  ...   \n",
       "22428      0      0        1              0                  0  ...   \n",
       "22429      0      0        1              1                  0  ...   \n",
       "22430      1      0        1              0                  0  ...   \n",
       "\n",
       "       dmy_Low-skill Laborers  dmy_Managers  dmy_Medicine staff  dmy_Other  \\\n",
       "0                           0             0                   0          1   \n",
       "1                           0             0                   0          1   \n",
       "2                           0             0                   0          0   \n",
       "3                           0             0                   0          0   \n",
       "4                           0             0                   0          0   \n",
       "...                       ...           ...                 ...        ...   \n",
       "22426                       0             0                   0          0   \n",
       "22427                       0             1                   0          0   \n",
       "22428                       0             0                   1          0   \n",
       "22429                       0             0                   1          0   \n",
       "22430                       0             0                   0          0   \n",
       "\n",
       "       dmy_Private service staff  dmy_Realty agents  dmy_Sales staff  \\\n",
       "0                              0                  0                0   \n",
       "1                              0                  0                0   \n",
       "2                              0                  0                0   \n",
       "3                              0                  0                1   \n",
       "4                              0                  0                1   \n",
       "...                          ...                ...              ...   \n",
       "22426                          0                  0                0   \n",
       "22427                          0                  0                0   \n",
       "22428                          0                  0                0   \n",
       "22429                          0                  0                0   \n",
       "22430                          0                  0                0   \n",
       "\n",
       "       dmy_Secretaries  dmy_Security staff  dmy_Waiters/barmen staff  \n",
       "0                    0                   0                         0  \n",
       "1                    0                   0                         0  \n",
       "2                    0                   1                         0  \n",
       "3                    0                   0                         0  \n",
       "4                    0                   0                         0  \n",
       "...                ...                 ...                       ...  \n",
       "22426                0                   0                         0  \n",
       "22427                0                   0                         0  \n",
       "22428                0                   0                         0  \n",
       "22429                0                   0                         0  \n",
       "22430                0                   0                         0  \n",
       "\n",
       "[22431 rows x 42 columns]"
      ]
     },
     "execution_count": 468,
     "metadata": {},
     "output_type": "execute_result"
    }
   ],
   "source": [
    "credit_card_df"
   ]
  },
  {
   "cell_type": "code",
   "execution_count": 469,
   "id": "1c41da31",
   "metadata": {},
   "outputs": [
    {
     "name": "stdout",
     "output_type": "stream",
     "text": [
      "Index(['AMT_INCOME_TOTAL', 'DAYS_BIRTH', 'DAYS_EMPLOYED', 'CNT_FAM_MEMBERS',\n",
      "       'STATUS', 'dmy_M', 'dmy_Y', 'dmy_Y.1', 'dmy_Pensioner',\n",
      "       'dmy_State servant', 'dmy_Student', 'dmy_Working',\n",
      "       'dmy_High school degree', 'dmy_Higher education', 'dmy_Lower secondary',\n",
      "       'dmy_Married', 'dmy_Separated', 'dmy_Single / not married', 'dmy_Widow',\n",
      "       'dmy_House / apartment', 'dmy_Municipal apartment',\n",
      "       'dmy_Office apartment', 'dmy_Rented apartment', 'dmy_With parents',\n",
      "       'dmy_Cleaning staff', 'dmy_Cooking staff', 'dmy_Core staff',\n",
      "       'dmy_Drivers', 'dmy_HR staff', 'dmy_High skill tech staff',\n",
      "       'dmy_IT staff', 'dmy_Laborers', 'dmy_Low-skill Laborers',\n",
      "       'dmy_Managers', 'dmy_Medicine staff', 'dmy_Other',\n",
      "       'dmy_Private service staff', 'dmy_Realty agents', 'dmy_Sales staff',\n",
      "       'dmy_Secretaries', 'dmy_Security staff', 'dmy_Waiters/barmen staff'],\n",
      "      dtype='object')\n"
     ]
    }
   ],
   "source": [
    " print(credit_card_df. columns)"
   ]
  },
  {
   "cell_type": "code",
   "execution_count": 470,
   "id": "b31c0666",
   "metadata": {},
   "outputs": [],
   "source": [
    "credit_card_df = credit_card_df.drop(columns=['dmy_Y','dmy_Y.1','DAYS_BIRTH','dmy_House / apartment','dmy_Municipal apartment','dmy_Office apartment','dmy_Rented apartment','dmy_With parents'])"
   ]
  },
  {
   "cell_type": "code",
   "execution_count": null,
   "id": "2322dac0",
   "metadata": {},
   "outputs": [],
   "source": []
  },
  {
   "cell_type": "code",
   "execution_count": 471,
   "id": "7dd4902f",
   "metadata": {},
   "outputs": [],
   "source": [
    "credit_card_df = credit_card_df.drop(columns=['dmy_Cleaning staff', 'dmy_Cooking staff', 'dmy_Core staff',\n",
    "     'dmy_Drivers', 'dmy_HR staff', 'dmy_High skill tech staff',\n",
    "       'dmy_IT staff', 'dmy_Laborers', 'dmy_Low-skill Laborers',\n",
    "       'dmy_Managers', 'dmy_Medicine staff', 'dmy_Other',\n",
    "       'dmy_Private service staff', 'dmy_Realty agents', 'dmy_Sales staff',\n",
    "       'dmy_Secretaries', 'dmy_Security staff', 'dmy_Waiters/barmen staff'])"
   ]
  },
  {
   "cell_type": "code",
   "execution_count": 398,
   "id": "34e7a739",
   "metadata": {},
   "outputs": [],
   "source": [
    "#credit_card_df = credit_card_df.drop(columns=['DAYS_BIRTH'])"
   ]
  },
  {
   "cell_type": "code",
   "execution_count": null,
   "id": "c7c5cc92",
   "metadata": {},
   "outputs": [],
   "source": []
  },
  {
   "cell_type": "code",
   "execution_count": null,
   "id": "96e6148f",
   "metadata": {},
   "outputs": [],
   "source": []
  },
  {
   "cell_type": "code",
   "execution_count": 472,
   "id": "635cff4c",
   "metadata": {},
   "outputs": [],
   "source": [
    "y_col = 'STATUS'\n",
    "y = credit_card_df[y_col]\n",
    "x = credit_card_df[credit_card_df.columns.drop(y_col)]"
   ]
  },
  {
   "cell_type": "code",
   "execution_count": 473,
   "id": "5b595ec8",
   "metadata": {},
   "outputs": [],
   "source": [
    "x_train, x_test, y_train, y_test=train_test_split(x, y, test_size=.20,random_state=123)"
   ]
  },
  {
   "cell_type": "code",
   "execution_count": 474,
   "id": "80d0ed0e",
   "metadata": {},
   "outputs": [
    {
     "data": {
      "text/plain": [
       "(17944, 15)"
      ]
     },
     "execution_count": 474,
     "metadata": {},
     "output_type": "execute_result"
    }
   ],
   "source": [
    "x_train.shape"
   ]
  },
  {
   "cell_type": "code",
   "execution_count": 475,
   "id": "e179e948",
   "metadata": {},
   "outputs": [
    {
     "data": {
      "text/plain": [
       "(17944,)"
      ]
     },
     "execution_count": 475,
     "metadata": {},
     "output_type": "execute_result"
    }
   ],
   "source": [
    "y_train.shape"
   ]
  },
  {
   "cell_type": "code",
   "execution_count": 476,
   "id": "abac8060",
   "metadata": {},
   "outputs": [
    {
     "data": {
      "text/plain": [
       "(4487, 15)"
      ]
     },
     "execution_count": 476,
     "metadata": {},
     "output_type": "execute_result"
    }
   ],
   "source": [
    "x_test.shape"
   ]
  },
  {
   "cell_type": "code",
   "execution_count": 477,
   "id": "4c6d0fe2",
   "metadata": {},
   "outputs": [
    {
     "data": {
      "text/plain": [
       "(4487,)"
      ]
     },
     "execution_count": 477,
     "metadata": {},
     "output_type": "execute_result"
    }
   ],
   "source": [
    "y_test.shape"
   ]
  },
  {
   "cell_type": "code",
   "execution_count": 478,
   "id": "c585279f",
   "metadata": {},
   "outputs": [],
   "source": [
    "std_scaler=StandardScaler().fit(x_train)\n",
    "\n",
    "x_train_scaled=std_scaler.transform(x_train)"
   ]
  },
  {
   "cell_type": "code",
   "execution_count": 479,
   "id": "6c187c27",
   "metadata": {},
   "outputs": [],
   "source": [
    "x_test_scaled=std_scaler.transform(x_test)"
   ]
  },
  {
   "cell_type": "code",
   "execution_count": 480,
   "id": "1b60a120",
   "metadata": {},
   "outputs": [
    {
     "name": "stdout",
     "output_type": "stream",
     "text": [
      "[[-0.97532523 -0.43820501 -0.22820768 ... -0.25430901 -0.37545674\n",
      "  -0.20117941]\n",
      " [-0.97532523 -0.41098998  0.88941201 ... -0.25430901 -0.37545674\n",
      "  -0.20117941]\n",
      " [ 1.25359175 -0.42187599 -0.22820768 ... -0.25430901 -0.37545674\n",
      "  -0.20117941]\n",
      " ...\n",
      " [-0.75243353 -0.41915449 -0.22820768 ... -0.25430901 -0.37545674\n",
      "  -0.20117941]\n",
      " [-0.52954183  2.26152566 -0.22820768 ... -0.25430901 -0.37545674\n",
      "  -0.20117941]\n",
      " [-0.30665013 -0.44909102  0.88941201 ... -0.25430901 -0.37545674\n",
      "  -0.20117941]]\n",
      "--------\n",
      "[[ 1.25359175 -0.45725553 -1.34582737 ...  3.93222397 -0.37545674\n",
      "  -0.20117941]\n",
      " [-0.08375844 -0.44092651 -0.22820768 ... -0.25430901 -0.37545674\n",
      "  -0.20117941]\n",
      " [-0.30665013 -0.44092651 -0.22820768 ... -0.25430901 -0.37545674\n",
      "  -0.20117941]\n",
      " ...\n",
      " [ 0.80780835 -0.45997703  0.88941201 ... -0.25430901 -0.37545674\n",
      "  -0.20117941]\n",
      " [-1.06448191 -0.40554697 -0.22820768 ... -0.25430901 -0.37545674\n",
      "  -0.20117941]\n",
      " [ 0.36202496 -0.427319    2.0070317  ... -0.25430901 -0.37545674\n",
      "  -0.20117941]]\n"
     ]
    }
   ],
   "source": [
    "print(x_train_scaled)\n",
    "print(\"--------\")\n",
    "print(x_test_scaled)"
   ]
  },
  {
   "cell_type": "code",
   "execution_count": 481,
   "id": "1c5411e6",
   "metadata": {},
   "outputs": [
    {
     "data": {
      "text/html": [
       "<div>\n",
       "<style scoped>\n",
       "    .dataframe tbody tr th:only-of-type {\n",
       "        vertical-align: middle;\n",
       "    }\n",
       "\n",
       "    .dataframe tbody tr th {\n",
       "        vertical-align: top;\n",
       "    }\n",
       "\n",
       "    .dataframe thead th {\n",
       "        text-align: right;\n",
       "    }\n",
       "</style>\n",
       "<table border=\"1\" class=\"dataframe\">\n",
       "  <thead>\n",
       "    <tr style=\"text-align: right;\">\n",
       "      <th></th>\n",
       "      <th>Error_metric</th>\n",
       "      <th>Train</th>\n",
       "      <th>Test</th>\n",
       "    </tr>\n",
       "  </thead>\n",
       "  <tbody>\n",
       "    <tr>\n",
       "      <th>0</th>\n",
       "      <td>Accuracy</td>\n",
       "      <td>0.845575</td>\n",
       "      <td>0.851571</td>\n",
       "    </tr>\n",
       "    <tr>\n",
       "      <th>1</th>\n",
       "      <td>Precision</td>\n",
       "      <td>1.000000</td>\n",
       "      <td>1.000000</td>\n",
       "    </tr>\n",
       "    <tr>\n",
       "      <th>2</th>\n",
       "      <td>Recall</td>\n",
       "      <td>0.004670</td>\n",
       "      <td>0.004484</td>\n",
       "    </tr>\n",
       "  </tbody>\n",
       "</table>\n",
       "</div>"
      ],
      "text/plain": [
       "  Error_metric     Train      Test\n",
       "0     Accuracy  0.845575  0.851571\n",
       "1    Precision  1.000000  1.000000\n",
       "2       Recall  0.004670  0.004484"
      ]
     },
     "metadata": {},
     "output_type": "display_data"
    },
    {
     "name": "stdout",
     "output_type": "stream",
     "text": [
      "Confusion matrix for the train set\n",
      "[[15160     0]\n",
      " [ 2771    13]]\n"
     ]
    },
    {
     "name": "stderr",
     "output_type": "stream",
     "text": [
      "/Users/nicola/opt/anaconda3/lib/python3.9/site-packages/sklearn/utils/deprecation.py:87: FutureWarning: Function plot_confusion_matrix is deprecated; Function `plot_confusion_matrix` is deprecated in 1.0 and will be removed in 1.2. Use one of the class methods: ConfusionMatrixDisplay.from_predictions or ConfusionMatrixDisplay.from_estimator.\n",
      "  warnings.warn(msg, category=FutureWarning)\n"
     ]
    },
    {
     "data": {
      "image/png": "[encoded data removed]",
      "text/plain": [
       "<Figure size 640x480 with 2 Axes>"
      ]
     },
     "metadata": {},
     "output_type": "display_data"
    },
    {
     "name": "stdout",
     "output_type": "stream",
     "text": [
      "\n",
      "\n",
      "Confusion matrix for the test set\n",
      "[[3818    0]\n",
      " [ 666    3]]\n"
     ]
    },
    {
     "name": "stderr",
     "output_type": "stream",
     "text": [
      "/Users/nicola/opt/anaconda3/lib/python3.9/site-packages/sklearn/utils/deprecation.py:87: FutureWarning: Function plot_confusion_matrix is deprecated; Function `plot_confusion_matrix` is deprecated in 1.0 and will be removed in 1.2. Use one of the class methods: ConfusionMatrixDisplay.from_predictions or ConfusionMatrixDisplay.from_estimator.\n",
      "  warnings.warn(msg, category=FutureWarning)\n"
     ]
    },
    {
     "data": {
      "image/png": "[encoded data removed]",
      "text/plain": [
       "<Figure size 640x480 with 2 Axes>"
      ]
     },
     "metadata": {},
     "output_type": "display_data"
    }
   ],
   "source": [
    "from sklearn.linear_model import LogisticRegression #Classification, regression is just a nme\n",
    "from sklearn.preprocessing import PowerTransformer\n",
    "from sklearn.metrics import accuracy_score, precision_score, recall_score, confusion_matrix\n",
    "from sklearn.metrics import plot_confusion_matrix\n",
    "\n",
    "\n",
    "log_model = LogisticRegression()\n",
    "log_model.fit(x_train_scaled, y_train)\n",
    "\n",
    "y_pred_train_log = log_model.predict(x_train_scaled)\n",
    "y_pred_test_log = log_model.predict(x_test_scaled)\n",
    "\n",
    "performance_log = pd.DataFrame({'Error_metric': ['Accuracy','Precision','Recall'],\n",
    "                               'Train': [accuracy_score(y_train, y_pred_train_log),\n",
    "                                         precision_score(y_train, y_pred_train_log),\n",
    "                                         recall_score(y_train, y_pred_train_log)],\n",
    "                               'Test': [accuracy_score(y_test, y_pred_test_log),\n",
    "                                        precision_score(y_test, y_pred_test_log),\n",
    "                                        recall_score(y_test, y_pred_test_log)]})\n",
    "\n",
    "display(performance_log)\n",
    "\n",
    "print(\"Confusion matrix for the train set\")\n",
    "print(confusion_matrix(y_train,y_pred_train_log))\n",
    "plot_confusion_matrix(log_model,x_train_scaled,y_train, values_format = 'd')\n",
    "plt.show()\n",
    "\n",
    "print()\n",
    "print()\n",
    "\n",
    "print(\"Confusion matrix for the test set\")\n",
    "print(confusion_matrix(y_test, y_pred_test_log))\n",
    "plot_confusion_matrix(log_model,x_test_scaled,y_test, values_format = 'd')\n",
    "plt.show()"
   ]
  },
  {
   "cell_type": "code",
   "execution_count": 482,
   "id": "2bebf51e",
   "metadata": {},
   "outputs": [
    {
     "data": {
      "text/plain": [
       "array([[0.86656974, 0.13343026],\n",
       "       [0.8605268 , 0.1394732 ],\n",
       "       [0.84278123, 0.15721877],\n",
       "       [0.83631074, 0.16368926],\n",
       "       [0.8723275 , 0.1276725 ],\n",
       "       [0.82714182, 0.17285818],\n",
       "       [0.88361207, 0.11638793],\n",
       "       [0.78124547, 0.21875453],\n",
       "       [0.82601422, 0.17398578],\n",
       "       [0.86223269, 0.13776731]])"
      ]
     },
     "execution_count": 482,
     "metadata": {},
     "output_type": "execute_result"
    }
   ],
   "source": [
    "log_model.predict_proba(x_test_scaled[:10, :])"
   ]
  },
  {
   "cell_type": "code",
   "execution_count": null,
   "id": "bc27b77d",
   "metadata": {},
   "outputs": [],
   "source": []
  },
  {
   "cell_type": "code",
   "execution_count": null,
   "id": "869ee2cb",
   "metadata": {},
   "outputs": [],
   "source": []
  },
  {
   "cell_type": "code",
   "execution_count": 483,
   "id": "8477601f",
   "metadata": {},
   "outputs": [],
   "source": [
    "Y_col = 'STATUS'\n",
    "Y = credit_card_df[Y_col]\n",
    "X = credit_card_df[credit_card_df.columns.drop(Y_col)]"
   ]
  },
  {
   "cell_type": "code",
   "execution_count": 484,
   "id": "0da38785",
   "metadata": {},
   "outputs": [],
   "source": [
    "X_train, X_test, Y_train, Y_test=train_test_split(X, Y, test_size=.20,random_state=42)"
   ]
  },
  {
   "cell_type": "code",
   "execution_count": 485,
   "id": "5d997f8a",
   "metadata": {},
   "outputs": [
    {
     "data": {
      "text/plain": [
       "(17944, 15)"
      ]
     },
     "execution_count": 485,
     "metadata": {},
     "output_type": "execute_result"
    }
   ],
   "source": [
    "X_train.shape"
   ]
  },
  {
   "cell_type": "code",
   "execution_count": 486,
   "id": "1411ccf4",
   "metadata": {},
   "outputs": [
    {
     "data": {
      "text/plain": [
       "(17944,)"
      ]
     },
     "execution_count": 486,
     "metadata": {},
     "output_type": "execute_result"
    }
   ],
   "source": [
    "Y_train.shape"
   ]
  },
  {
   "cell_type": "code",
   "execution_count": 487,
   "id": "c75fa751",
   "metadata": {},
   "outputs": [
    {
     "data": {
      "text/plain": [
       "(4487, 15)"
      ]
     },
     "execution_count": 487,
     "metadata": {},
     "output_type": "execute_result"
    }
   ],
   "source": [
    "X_test.shape"
   ]
  },
  {
   "cell_type": "code",
   "execution_count": 488,
   "id": "5aae89c8",
   "metadata": {},
   "outputs": [
    {
     "data": {
      "text/plain": [
       "(4487,)"
      ]
     },
     "execution_count": 488,
     "metadata": {},
     "output_type": "execute_result"
    }
   ],
   "source": [
    "Y_test.shape"
   ]
  },
  {
   "cell_type": "code",
   "execution_count": 489,
   "id": "be481b98",
   "metadata": {},
   "outputs": [],
   "source": [
    "std_scaler=StandardScaler().fit(X_train)\n",
    "\n",
    "X_train_scaled=std_scaler.transform(X_train)"
   ]
  },
  {
   "cell_type": "code",
   "execution_count": null,
   "id": "8adf18ee",
   "metadata": {},
   "outputs": [],
   "source": []
  },
  {
   "cell_type": "code",
   "execution_count": 490,
   "id": "ac64e80f",
   "metadata": {},
   "outputs": [],
   "source": [
    "smote = SMOTE()\n",
    "X_train_scaled, Y_train = smote.fit_resample(X_train_scaled, Y_train)"
   ]
  },
  {
   "cell_type": "code",
   "execution_count": 491,
   "id": "0c3a57a5",
   "metadata": {},
   "outputs": [],
   "source": [
    "X_test_scaled=std_scaler.transform(X_test)"
   ]
  },
  {
   "cell_type": "code",
   "execution_count": 492,
   "id": "6e938509",
   "metadata": {},
   "outputs": [
    {
     "name": "stdout",
     "output_type": "stream",
     "text": [
      "[[ 1.25490607 -0.43768263 -0.23168352 ... -0.24968158 -0.3766152\n",
      "  -0.20012747]\n",
      " [-0.48315584 -0.40760191 -0.23168352 ... -0.24968158 -0.3766152\n",
      "  -0.20012747]\n",
      " [-1.19620688  2.27778669 -0.23168352 ... -0.24968158 -0.3766152\n",
      "  -0.20012747]\n",
      " ...\n",
      " [ 1.37246621 -0.44831938  0.88708102 ... -0.24968158 -0.3766152\n",
      "  -0.20012747]\n",
      " [-0.08206463 -0.44315186 -1.35044806 ... -0.24968158 -0.3766152\n",
      "   4.99681519]\n",
      " [-1.18632044 -0.4566227   3.09703383 ... -0.24968158 -0.3766152\n",
      "  -0.20012747]]\n",
      "--------\n",
      "[[ 0.14076382 -0.45682491 -0.23168352 ... -0.24968158 -0.3766152\n",
      "  -0.20012747]\n",
      " [ 0.80924917 -0.44315186 -0.23168352 ... -0.24968158 -0.3766152\n",
      "  -0.20012747]\n",
      " [ 1.43316883  2.27778669 -1.35044806 ... -0.24968158  2.65523007\n",
      "  -0.20012747]\n",
      " ...\n",
      " [ 0.80924917 -0.44862108 -1.35044806 ...  4.00510121 -0.3766152\n",
      "  -0.20012747]\n",
      " [-0.57228722  2.27778669 -0.23168352 ... -0.24968158 -0.3766152\n",
      "  -0.20012747]\n",
      " [ 0.36359227 -0.40486729  0.88708102 ... -0.24968158 -0.3766152\n",
      "  -0.20012747]]\n"
     ]
    }
   ],
   "source": [
    "print(X_train_scaled)\n",
    "print(\"--------\")\n",
    "print(X_test_scaled)"
   ]
  },
  {
   "cell_type": "code",
   "execution_count": 506,
   "id": "be16fd28",
   "metadata": {},
   "outputs": [
    {
     "data": {
      "text/html": [
       "<div>\n",
       "<style scoped>\n",
       "    .dataframe tbody tr th:only-of-type {\n",
       "        vertical-align: middle;\n",
       "    }\n",
       "\n",
       "    .dataframe tbody tr th {\n",
       "        vertical-align: top;\n",
       "    }\n",
       "\n",
       "    .dataframe thead th {\n",
       "        text-align: right;\n",
       "    }\n",
       "</style>\n",
       "<table border=\"1\" class=\"dataframe\">\n",
       "  <thead>\n",
       "    <tr style=\"text-align: right;\">\n",
       "      <th></th>\n",
       "      <th>Error_metric</th>\n",
       "      <th>Train</th>\n",
       "      <th>Test</th>\n",
       "    </tr>\n",
       "  </thead>\n",
       "  <tbody>\n",
       "    <tr>\n",
       "      <th>0</th>\n",
       "      <td>Accuracy</td>\n",
       "      <td>0.536460</td>\n",
       "      <td>0.542902</td>\n",
       "    </tr>\n",
       "    <tr>\n",
       "      <th>1</th>\n",
       "      <td>Precision</td>\n",
       "      <td>0.537940</td>\n",
       "      <td>0.159239</td>\n",
       "    </tr>\n",
       "    <tr>\n",
       "      <th>2</th>\n",
       "      <td>Recall</td>\n",
       "      <td>0.516962</td>\n",
       "      <td>0.460870</td>\n",
       "    </tr>\n",
       "  </tbody>\n",
       "</table>\n",
       "</div>"
      ],
      "text/plain": [
       "  Error_metric     Train      Test\n",
       "0     Accuracy  0.536460  0.542902\n",
       "1    Precision  0.537940  0.159239\n",
       "2       Recall  0.516962  0.460870"
      ]
     },
     "metadata": {},
     "output_type": "display_data"
    },
    {
     "name": "stdout",
     "output_type": "stream",
     "text": [
      "Confusion matrix for the train set\n",
      "[[8440 6741]\n",
      " [7333 7848]]\n"
     ]
    },
    {
     "name": "stderr",
     "output_type": "stream",
     "text": [
      "/Users/nicola/opt/anaconda3/lib/python3.9/site-packages/sklearn/utils/deprecation.py:87: FutureWarning: Function plot_confusion_matrix is deprecated; Function `plot_confusion_matrix` is deprecated in 1.0 and will be removed in 1.2. Use one of the class methods: ConfusionMatrixDisplay.from_predictions or ConfusionMatrixDisplay.from_estimator.\n",
      "  warnings.warn(msg, category=FutureWarning)\n"
     ]
    },
    {
     "data": {
      "image/png": "[encoded data removed]",
      "text/plain": [
       "<Figure size 640x480 with 2 Axes>"
      ]
     },
     "metadata": {},
     "output_type": "display_data"
    },
    {
     "name": "stdout",
     "output_type": "stream",
     "text": [
      "\n",
      "\n",
      "Confusion matrix for the test set\n",
      "[[2118 1679]\n",
      " [ 372  318]]\n"
     ]
    },
    {
     "name": "stderr",
     "output_type": "stream",
     "text": [
      "/Users/nicola/opt/anaconda3/lib/python3.9/site-packages/sklearn/utils/deprecation.py:87: FutureWarning: Function plot_confusion_matrix is deprecated; Function `plot_confusion_matrix` is deprecated in 1.0 and will be removed in 1.2. Use one of the class methods: ConfusionMatrixDisplay.from_predictions or ConfusionMatrixDisplay.from_estimator.\n",
      "  warnings.warn(msg, category=FutureWarning)\n"
     ]
    },
    {
     "data": {
      "image/png": "[encoded data removed]",
      "text/plain": [
       "<Figure size 640x480 with 2 Axes>"
      ]
     },
     "metadata": {},
     "output_type": "display_data"
    }
   ],
   "source": [
    "from sklearn.linear_model import LogisticRegression #Classification, regression is just a nme\n",
    "from sklearn.preprocessing import PowerTransformer\n",
    "from sklearn.metrics import accuracy_score, precision_score, recall_score, confusion_matrix\n",
    "from sklearn.metrics import plot_confusion_matrix\n",
    "\n",
    "\n",
    "log_model_smt = LogisticRegression()\n",
    "log_model_smt.fit(X_train_scaled, Y_train)\n",
    "\n",
    "Y_pred_train_log = log_model.predict(X_train_scaled)\n",
    "Y_pred_test_log = log_model.predict(X_test_scaled)\n",
    "\n",
    "performance_log = pd.DataFrame({'Error_metric': ['Accuracy','Precision','Recall'],\n",
    "                               'Train': [accuracy_score(Y_train, Y_pred_train_log),\n",
    "                                         precision_score(Y_train, Y_pred_train_log),\n",
    "                                         recall_score(Y_train, Y_pred_train_log)],\n",
    "                               'Test': [accuracy_score(Y_test, Y_pred_test_log),\n",
    "                                        precision_score(Y_test, Y_pred_test_log),\n",
    "                                        recall_score(Y_test, Y_pred_test_log)]})\n",
    "\n",
    "display(performance_log)\n",
    "\n",
    "print(\"Confusion matrix for the train set\")\n",
    "print(confusion_matrix(Y_train,Y_pred_train_log))\n",
    "plot_confusion_matrix(log_model,X_train_scaled,Y_train, values_format = 'd')\n",
    "plt.show()\n",
    "\n",
    "print()\n",
    "print()\n",
    "\n",
    "print(\"Confusion matrix for the test set\")\n",
    "print(confusion_matrix(Y_test, Y_pred_test_log))\n",
    "plot_confusion_matrix(log_model,X_test_scaled,Y_test, values_format = 'd')\n",
    "plt.show()"
   ]
  },
  {
   "cell_type": "code",
   "execution_count": 494,
   "id": "59e5d94e",
   "metadata": {},
   "outputs": [
    {
     "data": {
      "text/plain": [
       "array([[0.47410575, 0.52589425],\n",
       "       [0.49510936, 0.50489064],\n",
       "       [0.48699051, 0.51300949],\n",
       "       [0.55052522, 0.44947478],\n",
       "       [0.4919827 , 0.5080173 ],\n",
       "       [0.4366297 , 0.5633703 ],\n",
       "       [0.53002188, 0.46997812],\n",
       "       [0.57234525, 0.42765475],\n",
       "       [0.46770751, 0.53229249],\n",
       "       [0.50423423, 0.49576577]])"
      ]
     },
     "execution_count": 494,
     "metadata": {},
     "output_type": "execute_result"
    }
   ],
   "source": [
    "log_model.predict_proba(X_test_scaled[:10, :])"
   ]
  },
  {
   "cell_type": "code",
   "execution_count": 495,
   "id": "72417117",
   "metadata": {},
   "outputs": [
    {
     "name": "stderr",
     "output_type": "stream",
     "text": [
      "/Users/nicola/opt/anaconda3/lib/python3.9/site-packages/sklearn/base.py:443: UserWarning: X has feature names, but LogisticRegression was fitted without feature names\n",
      "  warnings.warn(\n"
     ]
    },
    {
     "data": {
      "text/plain": [
       "array([1, 1, 1, ..., 1, 0, 1])"
      ]
     },
     "execution_count": 495,
     "metadata": {},
     "output_type": "execute_result"
    }
   ],
   "source": [
    "log_model.predict(X_test)\n"
   ]
  },
  {
   "cell_type": "code",
   "execution_count": 500,
   "id": "da68c1e7",
   "metadata": {},
   "outputs": [
    {
     "name": "stdout",
     "output_type": "stream",
     "text": [
      "Income: 12345\n",
      "Years of employment: 4\n",
      "Family memebers: 4\n",
      "Gender(Male 1, Female: 0): 1\n",
      "Pensioner (Yes: 1, No: 0): 1\n",
      "State_servant (Yes: 1, No: 0): 0\n",
      "Student (Yes: 1, No: 0): 0\n",
      "Working (Yes: 1, No: 0): 0\n",
      "High school degree (Yes: 1, No: 0): 1\n",
      "Higher education (Yes: 1, No: 0): 0\n",
      "Lower secondary (Yes: 1, No: 0): 0\n",
      "Married (Yes: 1, No: 0): 1\n",
      "Separated (Yes: 1, No: 0): 0\n",
      "Single (Yes: 1, No: 0): 0\n",
      "Widow (Yes: 1, No: 0): 0\n"
     ]
    }
   ],
   "source": [
    "i_AMT_INCOME_TOTAL = int(input(\"Income: \"))\n",
    "i_DAYS_EMPLOYED = int(input(\"Years of employment: \"))\n",
    "i_CNT_FAM_MEMBERS = int(input(\"Family memebers: \"))\n",
    "i_dmy_M = float(input(\"Gender(Male 1, Female: 0): \"))\n",
    "i_dmy_Pensioner = int(input(\"Pensioner (Yes: 1, No: 0): \"))\n",
    "i_dmy_State_servant = int(input(\"State servant (Yes: 1, No: 0): \"))\n",
    "i_dmy_Student = int(input(\"Student (Yes: 1, No: 0): \"))\n",
    "i_dmy_Working = float(input(\"Working (Yes: 1, No: 0): \"))\n",
    "i_dmy_High_school_degree = int(input(\"High school degree (Yes: 1, No: 0): \"))\n",
    "i_dmy_Higher_education = int(input(\"Higher education (Yes: 1, No: 0): \"))\n",
    "i_dmy_Lower_secondary = int(input(\"Lower secondary (Yes: 1, No: 0): \"))\n",
    "i_dmy_Married = int(input(\"Married (Yes: 1, No: 0): \"))\n",
    "i_dmy_Separated = int(input(\"Separated (Yes: 1, No: 0): \"))\n",
    "i_dmy_Single = int(input(\"Single (Yes: 1, No: 0): \"))\n",
    "i_dmy_Widow = int(input(\"Widow (Yes: 1, No: 0): \"))\n"
   ]
  },
  {
   "cell_type": "code",
   "execution_count": 501,
   "id": "42361ee6",
   "metadata": {},
   "outputs": [],
   "source": [
    "new_data = pd.DataFrame(columns=[\"i_AMT_INCOME_TOTAL\", \"i_DAYS_EMPLOYED\", \"i_CNT_FAM_MEMBERS\", \"i_dmy_M\", \"i_dmy_Pensioner\", \"i_dmy_State_servant\",\n",
    "                                  \"i_dmy_Student\", \"i_dmy_Working\", \"i_dmy_High_school_degree\", \"i_dmy_Higher_education\", \"i_dmy_Lower_secondary\",\"i_dmy_Married\",\"i_dmy_Separated\",\"i_dmy_Single\",\"i_dmy_Widow\"])"
   ]
  },
  {
   "cell_type": "code",
   "execution_count": 502,
   "id": "111564ce",
   "metadata": {},
   "outputs": [],
   "source": [
    "new_data.loc[0] = pd.Series({\"i_AMT_INCOME_TOTAL\":i_AMT_INCOME_TOTAL, \"i_DAYS_EMPLOYED\":i_DAYS_EMPLOYED, \"i_CNT_FAM_MEMBERS\":i_CNT_FAM_MEMBERS, \"i_dmy_M\":i_dmy_M,\n",
    "                             \"i_dmy_Pensioner\":i_dmy_Pensioner, \"i_dmy_State_servant\":i_dmy_State_servant, \"i_dmy_Student\":i_dmy_Student,\n",
    "                             \"i_dmy_Working\":i_dmy_Working,\"i_dmy_High_school_degree\":i_dmy_High_school_degree, \"i_dmy_Higher_education\":i_dmy_Higher_education, \"i_dmy_Lower_secondary\":i_dmy_Lower_secondary, \"i_dmy_Married\":i_dmy_Married, \"i_dmy_Separated\":i_dmy_Separated, \"i_dmy_Single\":i_dmy_Single, \"i_dmy_Widow\":i_dmy_Widow})"
   ]
  },
  {
   "cell_type": "code",
   "execution_count": 503,
   "id": "3ae1e992",
   "metadata": {},
   "outputs": [
    {
     "name": "stderr",
     "output_type": "stream",
     "text": [
      "/Users/nicola/opt/anaconda3/lib/python3.9/site-packages/sklearn/base.py:493: FutureWarning: The feature names should match those that were passed during fit. Starting version 1.2, an error will be raised.\n",
      "Feature names unseen at fit time:\n",
      "- i_AMT_INCOME_TOTAL\n",
      "- i_CNT_FAM_MEMBERS\n",
      "- i_DAYS_EMPLOYED\n",
      "- i_dmy_High_school_degree\n",
      "- i_dmy_Higher_education\n",
      "- ...\n",
      "Feature names seen at fit time, yet now missing:\n",
      "- AMT_INCOME_TOTAL\n",
      "- CNT_FAM_MEMBERS\n",
      "- DAYS_EMPLOYED\n",
      "- dmy_High school degree\n",
      "- dmy_Higher education\n",
      "- ...\n",
      "\n",
      "  warnings.warn(message, FutureWarning)\n"
     ]
    },
    {
     "data": {
      "text/plain": [
       "array([[-1.74243369, -0.44862108,  2.00584556,  1.40404874,  2.27202287,\n",
       "        -0.3084607 , -0.02361356, -1.03182586,  0.63843038, -0.61901571,\n",
       "        -0.10829386,  0.65072971, -0.24968158, -0.3766152 , -0.20012747]])"
      ]
     },
     "execution_count": 503,
     "metadata": {},
     "output_type": "execute_result"
    }
   ],
   "source": [
    "new_data = std_scaler.transform(new_data)\n",
    "new_data"
   ]
  },
  {
   "cell_type": "code",
   "execution_count": 504,
   "id": "17772af2",
   "metadata": {},
   "outputs": [
    {
     "data": {
      "text/plain": [
       "array([[-1.74243369, -0.44862108,  2.00584556,  1.40404874,  2.27202287,\n",
       "        -0.3084607 , -0.02361356, -1.03182586,  0.63843038, -0.61901571,\n",
       "        -0.10829386,  0.65072971, -0.24968158, -0.3766152 , -0.20012747]])"
      ]
     },
     "execution_count": 504,
     "metadata": {},
     "output_type": "execute_result"
    }
   ],
   "source": [
    "new_data"
   ]
  },
  {
   "cell_type": "code",
   "execution_count": 507,
   "id": "f688e4fa",
   "metadata": {},
   "outputs": [
    {
     "data": {
      "text/plain": [
       "array([[0.00227325, 0.99772675]])"
      ]
     },
     "execution_count": 507,
     "metadata": {},
     "output_type": "execute_result"
    }
   ],
   "source": [
    "log_model_smt.predict_proba(new_data)"
   ]
  },
  {
   "cell_type": "code",
   "execution_count": 509,
   "id": "903d3991",
   "metadata": {},
   "outputs": [
    {
     "data": {
      "text/plain": [
       "array([1])"
      ]
     },
     "execution_count": 509,
     "metadata": {},
     "output_type": "execute_result"
    }
   ],
   "source": [
    "log_model_smt.predict(new_data)"
   ]
  },
  {
   "cell_type": "code",
   "execution_count": null,
   "id": "c910f751",
   "metadata": {},
   "outputs": [],
   "source": []
  }
 ],
 "metadata": {
  "kernelspec": {
   "display_name": "Python 3 (ipykernel)",
   "language": "python",
   "name": "python3"
  },
  "language_info": {
   "codemirror_mode": {
    "name": "ipython",
    "version": 3
   },
   "file_extension": ".py",
   "mimetype": "text/x-python",
   "name": "python",
   "nbconvert_exporter": "python",
   "pygments_lexer": "ipython3",
   "version": "3.9.12"
  }
 },
 "nbformat": 4,
 "nbformat_minor": 5
}
