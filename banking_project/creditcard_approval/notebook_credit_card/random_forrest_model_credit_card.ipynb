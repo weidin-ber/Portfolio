{
 "cells": [
  {
   "cell_type": "code",
   "execution_count": 1,
   "id": "ef6228fa",
   "metadata": {},
   "outputs": [],
   "source": [
    "from sklearn.model_selection import train_test_split\n",
    "from sklearn.linear_model import LinearRegression\n",
    "from sklearn.preprocessing import PowerTransformer, StandardScaler, minmax_scale\n",
    "import pandas as pd\n",
    "import numpy as np;\n",
    "import scipy;\n",
    "## plotting libraries\n",
    "from matplotlib import pyplot as plt\n",
    "import seaborn as sns\n",
    "## stats Libraries\n",
    "from scipy import stats\n",
    "import statsmodels.api as sm\n",
    "## Sklearn libraries\n",
    "from sklearn import model_selection\n",
    "from sklearn import metrics as metrics\n",
    "from sklearn import preprocessing\n",
    "from sklearn import linear_model as lm\n",
    "%matplotlib inline\n",
    "import warnings\n",
    "warnings.filterwarnings('ignore')\n",
    "from imblearn.over_sampling import SMOTE\n",
    "from sklearn.metrics import accuracy_score, precision_score, recall_score, confusion_matrix, f1_score\n",
    "from sklearn.metrics import plot_confusion_matrix\n",
    "from sklearn.neighbors import KNeighborsClassifier"
   ]
  },
  {
   "cell_type": "code",
   "execution_count": 2,
   "id": "2b28dc58",
   "metadata": {},
   "outputs": [],
   "source": [
    "# load the data as dataframe\n",
    "data = pd.read_csv(\"data/data_cleaned_credit.csv\")"
   ]
  },
  {
   "cell_type": "code",
   "execution_count": 4,
   "id": "b73bd028",
   "metadata": {},
   "outputs": [
    {
     "data": {
      "text/plain": [
       "Index(['Unnamed: 0', 'AMT_INCOME_TOTAL', 'DAYS_BIRTH', 'DAYS_EMPLOYED',\n",
       "       'CNT_FAM_MEMBERS', 'STATUS', 'dmy_M', 'dmy_Y', 'dmy_Y.1',\n",
       "       'dmy_Pensioner', 'dmy_State servant', 'dmy_Student', 'dmy_Working',\n",
       "       'dmy_High school degree', 'dmy_Higher education', 'dmy_Lower secondary',\n",
       "       'dmy_Married', 'dmy_Separated', 'dmy_Single / not married', 'dmy_Widow',\n",
       "       'dmy_House / apartment', 'dmy_Municipal apartment',\n",
       "       'dmy_Office apartment', 'dmy_Rented apartment', 'dmy_With parents',\n",
       "       'dmy_Cleaning staff', 'dmy_Cooking staff', 'dmy_Core staff',\n",
       "       'dmy_Drivers', 'dmy_HR staff', 'dmy_High skill tech staff',\n",
       "       'dmy_IT staff', 'dmy_Laborers', 'dmy_Low-skill Laborers',\n",
       "       'dmy_Managers', 'dmy_Medicine staff', 'dmy_Other',\n",
       "       'dmy_Private service staff', 'dmy_Realty agents', 'dmy_Sales staff',\n",
       "       'dmy_Secretaries', 'dmy_Security staff', 'dmy_Waiters/barmen staff'],\n",
       "      dtype='object')"
      ]
     },
     "execution_count": 4,
     "metadata": {},
     "output_type": "execute_result"
    }
   ],
   "source": [
    "data.columns"
   ]
  },
  {
   "cell_type": "code",
   "execution_count": 5,
   "id": "e0e0b301",
   "metadata": {},
   "outputs": [],
   "source": [
    "# drop columns\n",
    "data = data.drop(columns=['Unnamed: 0', 'dmy_Y', 'dmy_Y.1','dmy_Cleaning staff', 'dmy_Cooking staff', 'dmy_Core staff',\n",
    "       'dmy_Drivers', 'dmy_HR staff', 'dmy_High skill tech staff', 'dmy_IT staff', 'dmy_Laborers', 'dmy_Low-skill Laborers',\n",
    "       'dmy_Managers', 'dmy_Medicine staff', 'dmy_Other', 'dmy_Private service staff', 'dmy_Realty agents', 'dmy_Sales staff',\n",
    "       'dmy_Secretaries', 'dmy_Security staff', 'dmy_Waiters/barmen staff'])"
   ]
  },
  {
   "cell_type": "code",
   "execution_count": 6,
   "id": "dbc998fe",
   "metadata": {},
   "outputs": [
    {
     "data": {
      "text/html": [
       "<div>\n",
       "<style scoped>\n",
       "    .dataframe tbody tr th:only-of-type {\n",
       "        vertical-align: middle;\n",
       "    }\n",
       "\n",
       "    .dataframe tbody tr th {\n",
       "        vertical-align: top;\n",
       "    }\n",
       "\n",
       "    .dataframe thead th {\n",
       "        text-align: right;\n",
       "    }\n",
       "</style>\n",
       "<table border=\"1\" class=\"dataframe\">\n",
       "  <thead>\n",
       "    <tr style=\"text-align: right;\">\n",
       "      <th></th>\n",
       "      <th>AMT_INCOME_TOTAL</th>\n",
       "      <th>DAYS_BIRTH</th>\n",
       "      <th>DAYS_EMPLOYED</th>\n",
       "      <th>CNT_FAM_MEMBERS</th>\n",
       "      <th>STATUS</th>\n",
       "      <th>dmy_M</th>\n",
       "      <th>dmy_Pensioner</th>\n",
       "      <th>dmy_State servant</th>\n",
       "      <th>dmy_Student</th>\n",
       "      <th>dmy_Working</th>\n",
       "      <th>...</th>\n",
       "      <th>dmy_Lower secondary</th>\n",
       "      <th>dmy_Married</th>\n",
       "      <th>dmy_Separated</th>\n",
       "      <th>dmy_Single / not married</th>\n",
       "      <th>dmy_Widow</th>\n",
       "      <th>dmy_House / apartment</th>\n",
       "      <th>dmy_Municipal apartment</th>\n",
       "      <th>dmy_Office apartment</th>\n",
       "      <th>dmy_Rented apartment</th>\n",
       "      <th>dmy_With parents</th>\n",
       "    </tr>\n",
       "  </thead>\n",
       "  <tbody>\n",
       "    <tr>\n",
       "      <th>0</th>\n",
       "      <td>427500.0</td>\n",
       "      <td>33</td>\n",
       "      <td>12</td>\n",
       "      <td>2</td>\n",
       "      <td>1</td>\n",
       "      <td>1</td>\n",
       "      <td>0</td>\n",
       "      <td>0</td>\n",
       "      <td>0</td>\n",
       "      <td>1</td>\n",
       "      <td>...</td>\n",
       "      <td>0</td>\n",
       "      <td>0</td>\n",
       "      <td>0</td>\n",
       "      <td>0</td>\n",
       "      <td>0</td>\n",
       "      <td>0</td>\n",
       "      <td>0</td>\n",
       "      <td>0</td>\n",
       "      <td>1</td>\n",
       "      <td>0</td>\n",
       "    </tr>\n",
       "    <tr>\n",
       "      <th>1</th>\n",
       "      <td>427500.0</td>\n",
       "      <td>33</td>\n",
       "      <td>12</td>\n",
       "      <td>2</td>\n",
       "      <td>1</td>\n",
       "      <td>1</td>\n",
       "      <td>0</td>\n",
       "      <td>0</td>\n",
       "      <td>0</td>\n",
       "      <td>1</td>\n",
       "      <td>...</td>\n",
       "      <td>0</td>\n",
       "      <td>0</td>\n",
       "      <td>0</td>\n",
       "      <td>0</td>\n",
       "      <td>0</td>\n",
       "      <td>0</td>\n",
       "      <td>0</td>\n",
       "      <td>0</td>\n",
       "      <td>1</td>\n",
       "      <td>0</td>\n",
       "    </tr>\n",
       "    <tr>\n",
       "      <th>2</th>\n",
       "      <td>112500.0</td>\n",
       "      <td>59</td>\n",
       "      <td>3</td>\n",
       "      <td>2</td>\n",
       "      <td>0</td>\n",
       "      <td>1</td>\n",
       "      <td>0</td>\n",
       "      <td>0</td>\n",
       "      <td>0</td>\n",
       "      <td>1</td>\n",
       "      <td>...</td>\n",
       "      <td>0</td>\n",
       "      <td>1</td>\n",
       "      <td>0</td>\n",
       "      <td>0</td>\n",
       "      <td>0</td>\n",
       "      <td>1</td>\n",
       "      <td>0</td>\n",
       "      <td>0</td>\n",
       "      <td>0</td>\n",
       "      <td>0</td>\n",
       "    </tr>\n",
       "    <tr>\n",
       "      <th>3</th>\n",
       "      <td>270000.0</td>\n",
       "      <td>52</td>\n",
       "      <td>8</td>\n",
       "      <td>1</td>\n",
       "      <td>0</td>\n",
       "      <td>0</td>\n",
       "      <td>0</td>\n",
       "      <td>0</td>\n",
       "      <td>0</td>\n",
       "      <td>0</td>\n",
       "      <td>...</td>\n",
       "      <td>0</td>\n",
       "      <td>0</td>\n",
       "      <td>0</td>\n",
       "      <td>1</td>\n",
       "      <td>0</td>\n",
       "      <td>1</td>\n",
       "      <td>0</td>\n",
       "      <td>0</td>\n",
       "      <td>0</td>\n",
       "      <td>0</td>\n",
       "    </tr>\n",
       "    <tr>\n",
       "      <th>4</th>\n",
       "      <td>270000.0</td>\n",
       "      <td>52</td>\n",
       "      <td>8</td>\n",
       "      <td>1</td>\n",
       "      <td>0</td>\n",
       "      <td>0</td>\n",
       "      <td>0</td>\n",
       "      <td>0</td>\n",
       "      <td>0</td>\n",
       "      <td>0</td>\n",
       "      <td>...</td>\n",
       "      <td>0</td>\n",
       "      <td>0</td>\n",
       "      <td>0</td>\n",
       "      <td>1</td>\n",
       "      <td>0</td>\n",
       "      <td>1</td>\n",
       "      <td>0</td>\n",
       "      <td>0</td>\n",
       "      <td>0</td>\n",
       "      <td>0</td>\n",
       "    </tr>\n",
       "    <tr>\n",
       "      <th>...</th>\n",
       "      <td>...</td>\n",
       "      <td>...</td>\n",
       "      <td>...</td>\n",
       "      <td>...</td>\n",
       "      <td>...</td>\n",
       "      <td>...</td>\n",
       "      <td>...</td>\n",
       "      <td>...</td>\n",
       "      <td>...</td>\n",
       "      <td>...</td>\n",
       "      <td>...</td>\n",
       "      <td>...</td>\n",
       "      <td>...</td>\n",
       "      <td>...</td>\n",
       "      <td>...</td>\n",
       "      <td>...</td>\n",
       "      <td>...</td>\n",
       "      <td>...</td>\n",
       "      <td>...</td>\n",
       "      <td>...</td>\n",
       "      <td>...</td>\n",
       "    </tr>\n",
       "    <tr>\n",
       "      <th>22426</th>\n",
       "      <td>130500.0</td>\n",
       "      <td>44</td>\n",
       "      <td>26</td>\n",
       "      <td>2</td>\n",
       "      <td>1</td>\n",
       "      <td>0</td>\n",
       "      <td>0</td>\n",
       "      <td>0</td>\n",
       "      <td>0</td>\n",
       "      <td>1</td>\n",
       "      <td>...</td>\n",
       "      <td>0</td>\n",
       "      <td>1</td>\n",
       "      <td>0</td>\n",
       "      <td>0</td>\n",
       "      <td>0</td>\n",
       "      <td>1</td>\n",
       "      <td>0</td>\n",
       "      <td>0</td>\n",
       "      <td>0</td>\n",
       "      <td>0</td>\n",
       "    </tr>\n",
       "    <tr>\n",
       "      <th>22427</th>\n",
       "      <td>315000.0</td>\n",
       "      <td>48</td>\n",
       "      <td>7</td>\n",
       "      <td>2</td>\n",
       "      <td>1</td>\n",
       "      <td>1</td>\n",
       "      <td>0</td>\n",
       "      <td>0</td>\n",
       "      <td>0</td>\n",
       "      <td>1</td>\n",
       "      <td>...</td>\n",
       "      <td>0</td>\n",
       "      <td>1</td>\n",
       "      <td>0</td>\n",
       "      <td>0</td>\n",
       "      <td>0</td>\n",
       "      <td>1</td>\n",
       "      <td>0</td>\n",
       "      <td>0</td>\n",
       "      <td>0</td>\n",
       "      <td>0</td>\n",
       "    </tr>\n",
       "    <tr>\n",
       "      <th>22428</th>\n",
       "      <td>157500.0</td>\n",
       "      <td>34</td>\n",
       "      <td>4</td>\n",
       "      <td>2</td>\n",
       "      <td>1</td>\n",
       "      <td>0</td>\n",
       "      <td>0</td>\n",
       "      <td>0</td>\n",
       "      <td>0</td>\n",
       "      <td>0</td>\n",
       "      <td>...</td>\n",
       "      <td>0</td>\n",
       "      <td>1</td>\n",
       "      <td>0</td>\n",
       "      <td>0</td>\n",
       "      <td>0</td>\n",
       "      <td>1</td>\n",
       "      <td>0</td>\n",
       "      <td>0</td>\n",
       "      <td>0</td>\n",
       "      <td>0</td>\n",
       "    </tr>\n",
       "    <tr>\n",
       "      <th>22429</th>\n",
       "      <td>157500.0</td>\n",
       "      <td>34</td>\n",
       "      <td>4</td>\n",
       "      <td>2</td>\n",
       "      <td>1</td>\n",
       "      <td>0</td>\n",
       "      <td>1</td>\n",
       "      <td>0</td>\n",
       "      <td>0</td>\n",
       "      <td>0</td>\n",
       "      <td>...</td>\n",
       "      <td>0</td>\n",
       "      <td>1</td>\n",
       "      <td>0</td>\n",
       "      <td>0</td>\n",
       "      <td>0</td>\n",
       "      <td>1</td>\n",
       "      <td>0</td>\n",
       "      <td>0</td>\n",
       "      <td>0</td>\n",
       "      <td>0</td>\n",
       "    </tr>\n",
       "    <tr>\n",
       "      <th>22430</th>\n",
       "      <td>112500.0</td>\n",
       "      <td>25</td>\n",
       "      <td>3</td>\n",
       "      <td>1</td>\n",
       "      <td>1</td>\n",
       "      <td>1</td>\n",
       "      <td>0</td>\n",
       "      <td>0</td>\n",
       "      <td>0</td>\n",
       "      <td>1</td>\n",
       "      <td>...</td>\n",
       "      <td>0</td>\n",
       "      <td>0</td>\n",
       "      <td>0</td>\n",
       "      <td>1</td>\n",
       "      <td>0</td>\n",
       "      <td>0</td>\n",
       "      <td>0</td>\n",
       "      <td>0</td>\n",
       "      <td>1</td>\n",
       "      <td>0</td>\n",
       "    </tr>\n",
       "  </tbody>\n",
       "</table>\n",
       "<p>22431 rows × 22 columns</p>\n",
       "</div>"
      ],
      "text/plain": [
       "       AMT_INCOME_TOTAL  DAYS_BIRTH  DAYS_EMPLOYED  CNT_FAM_MEMBERS  STATUS  \\\n",
       "0              427500.0          33             12                2       1   \n",
       "1              427500.0          33             12                2       1   \n",
       "2              112500.0          59              3                2       0   \n",
       "3              270000.0          52              8                1       0   \n",
       "4              270000.0          52              8                1       0   \n",
       "...                 ...         ...            ...              ...     ...   \n",
       "22426          130500.0          44             26                2       1   \n",
       "22427          315000.0          48              7                2       1   \n",
       "22428          157500.0          34              4                2       1   \n",
       "22429          157500.0          34              4                2       1   \n",
       "22430          112500.0          25              3                1       1   \n",
       "\n",
       "       dmy_M  dmy_Pensioner  dmy_State servant  dmy_Student  dmy_Working  ...  \\\n",
       "0          1              0                  0            0            1  ...   \n",
       "1          1              0                  0            0            1  ...   \n",
       "2          1              0                  0            0            1  ...   \n",
       "3          0              0                  0            0            0  ...   \n",
       "4          0              0                  0            0            0  ...   \n",
       "...      ...            ...                ...          ...          ...  ...   \n",
       "22426      0              0                  0            0            1  ...   \n",
       "22427      1              0                  0            0            1  ...   \n",
       "22428      0              0                  0            0            0  ...   \n",
       "22429      0              1                  0            0            0  ...   \n",
       "22430      1              0                  0            0            1  ...   \n",
       "\n",
       "       dmy_Lower secondary  dmy_Married  dmy_Separated  \\\n",
       "0                        0            0              0   \n",
       "1                        0            0              0   \n",
       "2                        0            1              0   \n",
       "3                        0            0              0   \n",
       "4                        0            0              0   \n",
       "...                    ...          ...            ...   \n",
       "22426                    0            1              0   \n",
       "22427                    0            1              0   \n",
       "22428                    0            1              0   \n",
       "22429                    0            1              0   \n",
       "22430                    0            0              0   \n",
       "\n",
       "       dmy_Single / not married  dmy_Widow  dmy_House / apartment  \\\n",
       "0                             0          0                      0   \n",
       "1                             0          0                      0   \n",
       "2                             0          0                      1   \n",
       "3                             1          0                      1   \n",
       "4                             1          0                      1   \n",
       "...                         ...        ...                    ...   \n",
       "22426                         0          0                      1   \n",
       "22427                         0          0                      1   \n",
       "22428                         0          0                      1   \n",
       "22429                         0          0                      1   \n",
       "22430                         1          0                      0   \n",
       "\n",
       "       dmy_Municipal apartment  dmy_Office apartment  dmy_Rented apartment  \\\n",
       "0                            0                     0                     1   \n",
       "1                            0                     0                     1   \n",
       "2                            0                     0                     0   \n",
       "3                            0                     0                     0   \n",
       "4                            0                     0                     0   \n",
       "...                        ...                   ...                   ...   \n",
       "22426                        0                     0                     0   \n",
       "22427                        0                     0                     0   \n",
       "22428                        0                     0                     0   \n",
       "22429                        0                     0                     0   \n",
       "22430                        0                     0                     1   \n",
       "\n",
       "       dmy_With parents  \n",
       "0                     0  \n",
       "1                     0  \n",
       "2                     0  \n",
       "3                     0  \n",
       "4                     0  \n",
       "...                 ...  \n",
       "22426                 0  \n",
       "22427                 0  \n",
       "22428                 0  \n",
       "22429                 0  \n",
       "22430                 0  \n",
       "\n",
       "[22431 rows x 22 columns]"
      ]
     },
     "execution_count": 6,
     "metadata": {},
     "output_type": "execute_result"
    }
   ],
   "source": [
    "data"
   ]
  },
  {
   "cell_type": "code",
   "execution_count": 7,
   "id": "924ef206",
   "metadata": {},
   "outputs": [],
   "source": [
    "# X / y split\n",
    "y = data['STATUS']\n",
    "X = data.drop(['STATUS'], axis = 1)"
   ]
  },
  {
   "cell_type": "code",
   "execution_count": 8,
   "id": "b4395f04",
   "metadata": {},
   "outputs": [],
   "source": [
    "# train/test split\n",
    "X_train, X_test, y_train, y_test=train_test_split(X, y, test_size=.20, random_state=42)"
   ]
  },
  {
   "cell_type": "code",
   "execution_count": 9,
   "id": "eb7d41de",
   "metadata": {},
   "outputs": [
    {
     "data": {
      "text/plain": [
       "0    15181\n",
       "1    15181\n",
       "Name: STATUS, dtype: int64"
      ]
     },
     "execution_count": 9,
     "metadata": {},
     "output_type": "execute_result"
    }
   ],
   "source": [
    "# upsampling with smote\n",
    "smote = SMOTE()\n",
    "X_sm, y_sm = smote.fit_resample(X_train, y_train)\n",
    "y_sm.value_counts()"
   ]
  },
  {
   "cell_type": "code",
   "execution_count": 10,
   "id": "82e346df",
   "metadata": {},
   "outputs": [],
   "source": [
    "# defining the different hyperparameters to test\n",
    "from sklearn.ensemble import RandomForestClassifier\n",
    "from sklearn.model_selection import GridSearchCV\n",
    "param_grid = {\n",
    "    'n_estimators': [ 100, 150, 200],\n",
    "    'min_samples_split': [2, 3, ],\n",
    "    'min_samples_leaf' : [1, 2, ],\n",
    "    'max_features': ['sqrt'],\n",
    "    'max_depth':[5,8,12],\n",
    "    'bootstrap':[True] \n",
    "    #'max_samples' : ['None', 0.5],\n",
    "\n",
    "    }\n",
    "clf = RandomForestClassifier(random_state=100)"
   ]
  },
  {
   "cell_type": "code",
   "execution_count": 11,
   "id": "e7ccf5d3",
   "metadata": {},
   "outputs": [],
   "source": [
    "# safe the parameters as a variable\n",
    "grid_search = GridSearchCV(clf, param_grid,return_train_score=True,n_jobs=-1, scoring=\"recall\")"
   ]
  },
  {
   "cell_type": "code",
   "execution_count": 12,
   "id": "62a2be89",
   "metadata": {},
   "outputs": [
    {
     "data": {
      "text/plain": [
       "GridSearchCV(estimator=RandomForestClassifier(random_state=100), n_jobs=-1,\n",
       "             param_grid={'bootstrap': [True], 'max_depth': [5, 8, 12],\n",
       "                         'max_features': ['sqrt'], 'min_samples_leaf': [1, 2],\n",
       "                         'min_samples_split': [2, 3],\n",
       "                         'n_estimators': [100, 150, 200]},\n",
       "             return_train_score=True, scoring='recall')"
      ]
     },
     "execution_count": 12,
     "metadata": {},
     "output_type": "execute_result"
    }
   ],
   "source": [
    "# Run all models with the different parameters\n",
    "grid_search.fit(X_sm,y_sm)"
   ]
  },
  {
   "cell_type": "code",
   "execution_count": 13,
   "id": "6a5b4cb4",
   "metadata": {},
   "outputs": [
    {
     "data": {
      "text/plain": [
       "{'bootstrap': True,\n",
       " 'max_depth': 12,\n",
       " 'max_features': 'sqrt',\n",
       " 'min_samples_leaf': 1,\n",
       " 'min_samples_split': 2,\n",
       " 'n_estimators': 150}"
      ]
     },
     "execution_count": 13,
     "metadata": {},
     "output_type": "execute_result"
    }
   ],
   "source": [
    "# get the best parameters \n",
    "grid_search.best_params_"
   ]
  },
  {
   "cell_type": "code",
   "execution_count": 14,
   "id": "a253934a",
   "metadata": {},
   "outputs": [
    {
     "name": "stdout",
     "output_type": "stream",
     "text": [
      "0.8008405256901809\n"
     ]
    }
   ],
   "source": [
    "# redefine the model with the best hyperparameters\n",
    "from sklearn.model_selection import cross_val_score\n",
    "clf = RandomForestClassifier(random_state=100, max_features='sqrt', \n",
    "                             min_samples_leaf=1, min_samples_split=2, n_estimators=150, max_depth=12, bootstrap=True)\n",
    "cross_val_scores_train = cross_val_score(clf, X_sm, y_sm, cv=5)\n",
    "print(np.mean(cross_val_scores_train))\n"
   ]
  },
  {
   "cell_type": "code",
   "execution_count": 15,
   "id": "91f8e3ce",
   "metadata": {},
   "outputs": [
    {
     "data": {
      "text/plain": [
       "RandomForestClassifier(max_depth=12, max_features='sqrt', n_estimators=150,\n",
       "                       random_state=100)"
      ]
     },
     "execution_count": 15,
     "metadata": {},
     "output_type": "execute_result"
    }
   ],
   "source": [
    "# run the model with the upsampled data\n",
    "clf.fit(X_sm, y_sm)"
   ]
  },
  {
   "cell_type": "code",
   "execution_count": 16,
   "id": "204c5d55",
   "metadata": {},
   "outputs": [
    {
     "data": {
      "text/plain": [
       "21"
      ]
     },
     "execution_count": 16,
     "metadata": {},
     "output_type": "execute_result"
    }
   ],
   "source": [
    "len(X_train.columns)"
   ]
  },
  {
   "cell_type": "code",
   "execution_count": 17,
   "id": "80fc1865",
   "metadata": {},
   "outputs": [],
   "source": [
    "# store the feature names in a list\n",
    "feature_names = X_train.columns\n",
    "feature_names = list(feature_names)"
   ]
  },
  {
   "cell_type": "code",
   "execution_count": 18,
   "id": "f9ab1c3f",
   "metadata": {},
   "outputs": [
    {
     "data": {
      "text/html": [
       "<div>\n",
       "<style scoped>\n",
       "    .dataframe tbody tr th:only-of-type {\n",
       "        vertical-align: middle;\n",
       "    }\n",
       "\n",
       "    .dataframe tbody tr th {\n",
       "        vertical-align: top;\n",
       "    }\n",
       "\n",
       "    .dataframe thead th {\n",
       "        text-align: right;\n",
       "    }\n",
       "</style>\n",
       "<table border=\"1\" class=\"dataframe\">\n",
       "  <thead>\n",
       "    <tr style=\"text-align: right;\">\n",
       "      <th></th>\n",
       "      <th>columns_name</th>\n",
       "      <th>score_feature_importance</th>\n",
       "    </tr>\n",
       "  </thead>\n",
       "  <tbody>\n",
       "    <tr>\n",
       "      <th>0</th>\n",
       "      <td>AMT_INCOME_TOTAL</td>\n",
       "      <td>0.139271</td>\n",
       "    </tr>\n",
       "    <tr>\n",
       "      <th>1</th>\n",
       "      <td>DAYS_BIRTH</td>\n",
       "      <td>0.131133</td>\n",
       "    </tr>\n",
       "    <tr>\n",
       "      <th>2</th>\n",
       "      <td>DAYS_EMPLOYED</td>\n",
       "      <td>0.104996</td>\n",
       "    </tr>\n",
       "    <tr>\n",
       "      <th>9</th>\n",
       "      <td>dmy_High school degree</td>\n",
       "      <td>0.098302</td>\n",
       "    </tr>\n",
       "    <tr>\n",
       "      <th>10</th>\n",
       "      <td>dmy_Higher education</td>\n",
       "      <td>0.084961</td>\n",
       "    </tr>\n",
       "    <tr>\n",
       "      <th>14</th>\n",
       "      <td>dmy_Single / not married</td>\n",
       "      <td>0.055804</td>\n",
       "    </tr>\n",
       "    <tr>\n",
       "      <th>12</th>\n",
       "      <td>dmy_Married</td>\n",
       "      <td>0.052687</td>\n",
       "    </tr>\n",
       "    <tr>\n",
       "      <th>3</th>\n",
       "      <td>CNT_FAM_MEMBERS</td>\n",
       "      <td>0.050007</td>\n",
       "    </tr>\n",
       "    <tr>\n",
       "      <th>13</th>\n",
       "      <td>dmy_Separated</td>\n",
       "      <td>0.047552</td>\n",
       "    </tr>\n",
       "    <tr>\n",
       "      <th>8</th>\n",
       "      <td>dmy_Working</td>\n",
       "      <td>0.046685</td>\n",
       "    </tr>\n",
       "    <tr>\n",
       "      <th>4</th>\n",
       "      <td>dmy_M</td>\n",
       "      <td>0.033263</td>\n",
       "    </tr>\n",
       "    <tr>\n",
       "      <th>16</th>\n",
       "      <td>dmy_House / apartment</td>\n",
       "      <td>0.027721</td>\n",
       "    </tr>\n",
       "    <tr>\n",
       "      <th>15</th>\n",
       "      <td>dmy_Widow</td>\n",
       "      <td>0.024730</td>\n",
       "    </tr>\n",
       "    <tr>\n",
       "      <th>6</th>\n",
       "      <td>dmy_State servant</td>\n",
       "      <td>0.022878</td>\n",
       "    </tr>\n",
       "    <tr>\n",
       "      <th>20</th>\n",
       "      <td>dmy_With parents</td>\n",
       "      <td>0.021599</td>\n",
       "    </tr>\n",
       "    <tr>\n",
       "      <th>17</th>\n",
       "      <td>dmy_Municipal apartment</td>\n",
       "      <td>0.018506</td>\n",
       "    </tr>\n",
       "    <tr>\n",
       "      <th>11</th>\n",
       "      <td>dmy_Lower secondary</td>\n",
       "      <td>0.015632</td>\n",
       "    </tr>\n",
       "    <tr>\n",
       "      <th>5</th>\n",
       "      <td>dmy_Pensioner</td>\n",
       "      <td>0.011596</td>\n",
       "    </tr>\n",
       "    <tr>\n",
       "      <th>19</th>\n",
       "      <td>dmy_Rented apartment</td>\n",
       "      <td>0.007904</td>\n",
       "    </tr>\n",
       "    <tr>\n",
       "      <th>18</th>\n",
       "      <td>dmy_Office apartment</td>\n",
       "      <td>0.004337</td>\n",
       "    </tr>\n",
       "    <tr>\n",
       "      <th>7</th>\n",
       "      <td>dmy_Student</td>\n",
       "      <td>0.000436</td>\n",
       "    </tr>\n",
       "  </tbody>\n",
       "</table>\n",
       "</div>"
      ],
      "text/plain": [
       "                columns_name  score_feature_importance\n",
       "0           AMT_INCOME_TOTAL                  0.139271\n",
       "1                 DAYS_BIRTH                  0.131133\n",
       "2              DAYS_EMPLOYED                  0.104996\n",
       "9     dmy_High school degree                  0.098302\n",
       "10      dmy_Higher education                  0.084961\n",
       "14  dmy_Single / not married                  0.055804\n",
       "12               dmy_Married                  0.052687\n",
       "3            CNT_FAM_MEMBERS                  0.050007\n",
       "13             dmy_Separated                  0.047552\n",
       "8                dmy_Working                  0.046685\n",
       "4                      dmy_M                  0.033263\n",
       "16     dmy_House / apartment                  0.027721\n",
       "15                 dmy_Widow                  0.024730\n",
       "6          dmy_State servant                  0.022878\n",
       "20          dmy_With parents                  0.021599\n",
       "17   dmy_Municipal apartment                  0.018506\n",
       "11       dmy_Lower secondary                  0.015632\n",
       "5              dmy_Pensioner                  0.011596\n",
       "19      dmy_Rented apartment                  0.007904\n",
       "18      dmy_Office apartment                  0.004337\n",
       "7                dmy_Student                  0.000436"
      ]
     },
     "execution_count": 18,
     "metadata": {},
     "output_type": "execute_result"
    }
   ],
   "source": [
    "# list the feature in a dataframe from most to least important feature\n",
    "df = pd.DataFrame(list(zip(feature_names, clf.feature_importances_)))\n",
    "df.columns = ['columns_name', 'score_feature_importance']\n",
    "df.sort_values(by=['score_feature_importance'], ascending = False)"
   ]
  },
  {
   "cell_type": "code",
   "execution_count": 19,
   "id": "65bb4348",
   "metadata": {},
   "outputs": [
    {
     "name": "stdout",
     "output_type": "stream",
     "text": [
      "0.8008405256901809\n",
      "0.8455521197900095\n"
     ]
    }
   ],
   "source": [
    "# calculate cross validation\n",
    "cross_val_scores_test = cross_val_score(clf, X_test, y_test, cv=10)\n",
    "print(np.mean(cross_val_scores_train))\n",
    "print(np.mean(cross_val_scores_test))"
   ]
  },
  {
   "cell_type": "code",
   "execution_count": 20,
   "id": "73646cf0",
   "metadata": {},
   "outputs": [
    {
     "data": {
      "text/plain": [
       "array([0.84632517, 0.84632517, 0.84632517, 0.85077951, 0.84855234,\n",
       "       0.844098  , 0.844098  , 0.84151786, 0.84598214, 0.84151786])"
      ]
     },
     "execution_count": 20,
     "metadata": {},
     "output_type": "execute_result"
    }
   ],
   "source": [
    "cross_val_scores_test"
   ]
  },
  {
   "cell_type": "code",
   "execution_count": 21,
   "id": "7f84330b",
   "metadata": {},
   "outputs": [],
   "source": [
    "from sklearn.metrics import recall_score"
   ]
  },
  {
   "cell_type": "code",
   "execution_count": 22,
   "id": "3803db2c",
   "metadata": {},
   "outputs": [],
   "source": [
    "# predict on x test\n",
    "y_pred= clf.predict(X_test)"
   ]
  },
  {
   "cell_type": "code",
   "execution_count": 23,
   "id": "d786328d",
   "metadata": {},
   "outputs": [
    {
     "data": {
      "text/plain": [
       "array([1, 0, 0, ..., 0, 0, 0], dtype=int64)"
      ]
     },
     "execution_count": 23,
     "metadata": {},
     "output_type": "execute_result"
    }
   ],
   "source": [
    "y_pred"
   ]
  },
  {
   "cell_type": "code",
   "execution_count": 24,
   "id": "b4943729",
   "metadata": {},
   "outputs": [
    {
     "data": {
      "text/plain": [
       "0.30434782608695654"
      ]
     },
     "execution_count": 24,
     "metadata": {},
     "output_type": "execute_result"
    }
   ],
   "source": [
    "# calculate the recall score\n",
    "recall_score(y_test, y_pred)"
   ]
  },
  {
   "cell_type": "code",
   "execution_count": null,
   "id": "c00f5c99",
   "metadata": {},
   "outputs": [],
   "source": []
  }
 ],
 "metadata": {
  "kernelspec": {
   "display_name": "Python 3 (ipykernel)",
   "language": "python",
   "name": "python3"
  },
  "language_info": {
   "codemirror_mode": {
    "name": "ipython",
    "version": 3
   },
   "file_extension": ".py",
   "mimetype": "text/x-python",
   "name": "python",
   "nbconvert_exporter": "python",
   "pygments_lexer": "ipython3",
   "version": "3.9.12"
  }
 },
 "nbformat": 4,
 "nbformat_minor": 5
}
