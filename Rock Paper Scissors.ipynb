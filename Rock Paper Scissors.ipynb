{
 "cells": [
  {
   "cell_type": "code",
   "execution_count": 3,
   "id": "40e01138",
   "metadata": {},
   "outputs": [],
   "source": [
    "import random"
   ]
  },
  {
   "cell_type": "code",
   "execution_count": 5,
   "id": "343ce9ff",
   "metadata": {},
   "outputs": [
    {
     "name": "stdout",
     "output_type": "stream",
     "text": [
      "Please enter amount of rounds you want to play(odd): 3\n",
      "2.0\n"
     ]
    }
   ],
   "source": [
    "gestures = [\"rock\", \"paper\", \"scissors\"]\n",
    "n_rounds = int(input(\"Please enter amount of rounds you want to play(odd): \"))\n",
    "rounds_to_win = ((n_rounds/2)+1) // 1\n",
    "print(rounds_to_win)\n"
   ]
  },
  {
   "cell_type": "code",
   "execution_count": 6,
   "id": "dcbec464",
   "metadata": {},
   "outputs": [],
   "source": [
    "def cpu_turn():\n",
    "    y = random.choice(gestures)\n",
    "    return y\n"
   ]
  },
  {
   "cell_type": "code",
   "execution_count": 7,
   "id": "ae17ba01",
   "metadata": {},
   "outputs": [],
   "source": [
    "def player_turn():\n",
    "    print(\"Please enter your choice: \")\n",
    "    x = input()\n",
    "    if x == \"rock\":\n",
    "        return x\n",
    "    elif x == \"paper\":\n",
    "        return x\n",
    "    elif x == \"scissors\":\n",
    "        return x\n",
    "    else:\n",
    "        print(\"Please choose rock, paper or scissors only\")\n",
    "        return player_turn()\n"
   ]
  },
  {
   "cell_type": "code",
   "execution_count": 8,
   "id": "7912669a",
   "metadata": {},
   "outputs": [],
   "source": [
    "def check():\n",
    "    global cpu\n",
    "    cpu=cpu_turn()\n",
    "    global player\n",
    "    player=player_turn()\n",
    "    if cpu == player:\n",
    "        return 0\n",
    "    elif cpu == \"rock\" and player ==\"paper\":\n",
    "        return 2\n",
    "    elif cpu == \"rock\"and player == \"scissors\":\n",
    "        return 1\n",
    "    elif cpu == \"paper\"and player == \"scissors\":\n",
    "        return 2\n",
    "    elif cpu == \"paper\" and player == \"rock\":\n",
    "        return 1\n",
    "    elif cpu == \"scissors\" and player == \"paper\":\n",
    "        return 1\n",
    "    else: \n",
    "        return 2\n",
    "\n",
    "\n",
    "\n",
    "\n"
   ]
  },
  {
   "cell_type": "code",
   "execution_count": 9,
   "id": "b9509758",
   "metadata": {},
   "outputs": [
    {
     "name": "stdout",
     "output_type": "stream",
     "text": [
      "Please enter your choice: \n",
      "rock\n"
     ]
    },
    {
     "data": {
      "text/plain": [
       "'rock'"
      ]
     },
     "execution_count": 9,
     "metadata": {},
     "output_type": "execute_result"
    }
   ],
   "source": [
    "player_turn()"
   ]
  },
  {
   "cell_type": "code",
   "execution_count": 10,
   "id": "d829d63a",
   "metadata": {},
   "outputs": [],
   "source": [
    "def round_check():\n",
    "    global round\n",
    "    round = check()\n",
    "    print(\"CPU chose: \",cpu)\n",
    "    print (\"Player chose: \",player)\n",
    "    if round == 0:\n",
    "        return print(\"It's a tie\")\n",
    "    elif round == 1:\n",
    "        return print(\"CPU won the round\")\n",
    "    else: #round == 2:\n",
    "        return print(\"Player won the round\")\n",
    "   "
   ]
  },
  {
   "cell_type": "code",
   "execution_count": 11,
   "id": "0b20ba7d",
   "metadata": {},
   "outputs": [
    {
     "name": "stdout",
     "output_type": "stream",
     "text": [
      "Please enter your choice: \n",
      "rock\n",
      "CPU chose:  rock\n",
      "Player chose:  rock\n",
      "It's a tie\n"
     ]
    }
   ],
   "source": [
    "round_check()"
   ]
  },
  {
   "cell_type": "code",
   "execution_count": 12,
   "id": "f298c93b",
   "metadata": {
    "scrolled": true
   },
   "outputs": [],
   "source": [
    "def game():\n",
    "    cpu_score = 0\n",
    "    player_score = 0\n",
    "    n_rounds = int(input(\"Please enter amount of rounds you want to play(odd): \"))\n",
    "    rounds_to_win = ((n_rounds/2)+1) // 1\n",
    "    print(\"Rounds you need to win: \",rounds_to_win)\n",
    "    while cpu_score < rounds_to_win or player_score < rounds_to_win:\n",
    "        round_check()\n",
    "        if round == 0:\n",
    "            cpu_score + 0 and player_score + 0\n",
    "        if round == 1:\n",
    "            cpu_score +=1\n",
    "        if round == 2:\n",
    "            player_score +=1\n",
    "        print(\"CPU Score: \", cpu_score)\n",
    "        print(\"PLAYER Score: \", player_score)\n",
    "        if cpu_score == rounds_to_win:\n",
    "            print(\"CPU won the GAME\")\n",
    "            break\n",
    "        if player_score == rounds_to_win:\n",
    "            print(\"player won the GAME\")\n",
    "            break\n",
    "            "
   ]
  },
  {
   "cell_type": "code",
   "execution_count": 13,
   "id": "0a5a84f6",
   "metadata": {
    "scrolled": true
   },
   "outputs": [
    {
     "name": "stdout",
     "output_type": "stream",
     "text": [
      "Please enter amount of rounds you want to play(odd): 3\n",
      "Rounds you need to win:  2.0\n",
      "Please enter your choice: \n",
      "paper\n",
      "CPU chose:  scissors\n",
      "Player chose:  paper\n",
      "CPU won the round\n",
      "CPU Score:  1\n",
      "PLAYER Score:  0\n",
      "Please enter your choice: \n",
      "paper\n",
      "CPU chose:  rock\n",
      "Player chose:  paper\n",
      "Player won the round\n",
      "CPU Score:  1\n",
      "PLAYER Score:  1\n",
      "Please enter your choice: \n",
      "rock\n",
      "CPU chose:  paper\n",
      "Player chose:  rock\n",
      "CPU won the round\n",
      "CPU Score:  2\n",
      "PLAYER Score:  1\n",
      "CPU won the GAME\n"
     ]
    }
   ],
   "source": [
    "game()\n"
   ]
  },
  {
   "cell_type": "code",
   "execution_count": null,
   "id": "30bdf856",
   "metadata": {},
   "outputs": [],
   "source": []
  }
 ],
 "metadata": {
  "kernelspec": {
   "display_name": "Python 3 (ipykernel)",
   "language": "python",
   "name": "python3"
  },
  "language_info": {
   "codemirror_mode": {
    "name": "ipython",
    "version": 3
   },
   "file_extension": ".py",
   "mimetype": "text/x-python",
   "name": "python",
   "nbconvert_exporter": "python",
   "pygments_lexer": "ipython3",
   "version": "3.9.12"
  }
 },
 "nbformat": 4,
 "nbformat_minor": 5
}
